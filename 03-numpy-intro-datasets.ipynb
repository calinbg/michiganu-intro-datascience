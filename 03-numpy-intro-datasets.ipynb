{
 "cells": [
  {
   "cell_type": "code",
   "execution_count": 1,
   "id": "2b1490c1-f2d8-4471-83f6-813b792e6697",
   "metadata": {},
   "outputs": [],
   "source": [
    "import numpy as np"
   ]
  },
  {
   "cell_type": "markdown",
   "id": "dd2418c7-5b21-41eb-bb13-d94729d2e831",
   "metadata": {},
   "source": [
    "## Red wines dataset"
   ]
  },
  {
   "cell_type": "code",
   "execution_count": 4,
   "id": "a04cda76-953f-4e05-a6bc-bd4ad9030992",
   "metadata": {},
   "outputs": [
    {
     "data": {
      "text/plain": [
       "array([[ 7.4  ,  0.7  ,  0.   , ...,  0.56 ,  9.4  ,  5.   ],\n",
       "       [ 7.8  ,  0.88 ,  0.   , ...,  0.68 ,  9.8  ,  5.   ],\n",
       "       [ 7.8  ,  0.76 ,  0.04 , ...,  0.65 ,  9.8  ,  5.   ],\n",
       "       ...,\n",
       "       [ 6.3  ,  0.51 ,  0.13 , ...,  0.75 , 11.   ,  6.   ],\n",
       "       [ 5.9  ,  0.645,  0.12 , ...,  0.71 , 10.2  ,  5.   ],\n",
       "       [ 6.   ,  0.31 ,  0.47 , ...,  0.66 , 11.   ,  6.   ]])"
      ]
     },
     "execution_count": 4,
     "metadata": {},
     "output_type": "execute_result"
    }
   ],
   "source": [
    "wines = np.genfromtxt(\"./winequality-red.csv\", delimiter=\",\", skip_header=1)\n",
    "wines"
   ]
  },
  {
   "cell_type": "code",
   "execution_count": 6,
   "id": "123444d0-da90-4cb6-9e3e-38a82537860b",
   "metadata": {},
   "outputs": [
    {
     "name": "stdout",
     "output_type": "stream",
     "text": [
      "[7.4 7.8 7.8 ... 6.3 5.9 6. ]\n",
      "[[7.4]\n",
      " [7.8]\n",
      " [7.8]\n",
      " ...\n",
      " [6.3]\n",
      " [5.9]\n",
      " [6. ]]\n",
      "[[7.4]\n",
      " [7.8]\n",
      " [7.8]\n",
      " ...\n",
      " [6.3]\n",
      " [5.9]\n",
      " [6. ]]\n"
     ]
    }
   ],
   "source": [
    "# We can use integer indexing to get a certain column or row, and empty slice for all rows\n",
    "print(wines[:,0])\n",
    "# But if we wanted the same values, but wanted to preserve the row format:\n",
    "print(wines[:, 0:1])\n",
    "# Which is the same with:\n",
    "print(wines[:, [0]])"
   ]
  },
  {
   "cell_type": "code",
   "execution_count": 7,
   "id": "f3d90fe8-60d4-4459-933f-938bcdb268b0",
   "metadata": {},
   "outputs": [
    {
     "data": {
      "text/plain": [
       "array([[7.4  , 0.7  , 0.   ],\n",
       "       [7.8  , 0.88 , 0.   ],\n",
       "       [7.8  , 0.76 , 0.04 ],\n",
       "       ...,\n",
       "       [6.3  , 0.51 , 0.13 ],\n",
       "       [5.9  , 0.645, 0.12 ],\n",
       "       [6.   , 0.31 , 0.47 ]])"
      ]
     },
     "execution_count": 7,
     "metadata": {},
     "output_type": "execute_result"
    }
   ],
   "source": [
    "# We can get a range of columns in order\n",
    "wines[:, 0:3]"
   ]
  },
  {
   "cell_type": "code",
   "execution_count": 9,
   "id": "26fe7103-3340-4218-a169-192ce9ce61c7",
   "metadata": {},
   "outputs": [
    {
     "data": {
      "text/plain": [
       "array([[7.4  , 0.   , 0.076],\n",
       "       [7.8  , 0.   , 0.098],\n",
       "       [7.8  , 0.04 , 0.092],\n",
       "       ...,\n",
       "       [6.3  , 0.13 , 0.076],\n",
       "       [5.9  , 0.12 , 0.075],\n",
       "       [6.   , 0.47 , 0.067]])"
      ]
     },
     "execution_count": 9,
     "metadata": {},
     "output_type": "execute_result"
    }
   ],
   "source": [
    "# We can get several non-consecutive columns using a list\n",
    "wines[:, [0, 2, 4]]"
   ]
  },
  {
   "cell_type": "code",
   "execution_count": 11,
   "id": "d39e1552-fcdc-44d7-85f3-e571503b6839",
   "metadata": {},
   "outputs": [
    {
     "data": {
      "text/plain": [
       "5.6360225140712945"
      ]
     },
     "execution_count": 11,
     "metadata": {},
     "output_type": "execute_result"
    }
   ],
   "source": [
    "# We can do some basic summarization of the data\n",
    "# For the average quality of the wine, we can select the quality column (which is the last column) using -1\n",
    "wines[:, [-1]].mean()"
   ]
  },
  {
   "cell_type": "markdown",
   "id": "11ccc960-46f4-46bf-aac0-4418b9452ba4",
   "metadata": {},
   "source": [
    "## Graduate school admissions"
   ]
  },
  {
   "cell_type": "code",
   "execution_count": 24,
   "id": "d1fb3dd4-5b88-46e3-8c51-c8e502f98302",
   "metadata": {},
   "outputs": [
    {
     "data": {
      "text/plain": [
       "(400,)"
      ]
     },
     "execution_count": 24,
     "metadata": {},
     "output_type": "execute_result"
    }
   ],
   "source": [
    "gsa = np.genfromtxt(\"Admission_Predict.csv\", delimiter=\",\", skip_header=1, dtype=None, names=(\"Serial No.\", \"GRE Score\", \"TOEFL Score\", \"University Rating\", \"SOP\", \"LOR\", \"CGPA\", \"Research\", \"Chance of Admit\"))\n",
    "gsa"
   ]
  },
  {
   "cell_type": "code",
   "execution_count": 17,
   "id": "746280da-ebc0-4cde-91ee-61a64cae548c",
   "metadata": {},
   "outputs": [
    {
     "data": {
      "text/plain": [
       "array([9.65, 8.87, 8.  , 8.67, 8.21])"
      ]
     },
     "execution_count": 17,
     "metadata": {},
     "output_type": "execute_result"
    }
   ],
   "source": [
    "# Providing the names of the columns, we can retrieve a column by name\n",
    "gsa[\"CGPA\"][0:5]"
   ]
  },
  {
   "cell_type": "code",
   "execution_count": 18,
   "id": "06e35a32-1cd9-479a-989d-0f34dea2400e",
   "metadata": {},
   "outputs": [
    {
     "data": {
      "text/plain": [
       "array([3.86 , 3.548, 3.2  , 3.468, 3.284])"
      ]
     },
     "execution_count": 18,
     "metadata": {},
     "output_type": "execute_result"
    }
   ],
   "source": [
    "gsa[\"CGPA\"] = gsa[\"CGPA\"] / 10 *4\n",
    "gsa[\"CGPA\"][0:5]"
   ]
  },
  {
   "cell_type": "code",
   "execution_count": 19,
   "id": "971c43b1-67e6-4634-a740-13e7da479412",
   "metadata": {},
   "outputs": [
    {
     "data": {
      "text/plain": [
       "219"
      ]
     },
     "execution_count": 19,
     "metadata": {},
     "output_type": "execute_result"
    }
   ],
   "source": [
    "# We can find otu how many students have had research experience by creating a boolean mask and passing it to the array indexing operator\n",
    "len(gsa[gsa[\"Research\"] == 1])"
   ]
  },
  {
   "cell_type": "code",
   "execution_count": 20,
   "id": "9c58fa8d-09bf-4bc2-bb6b-12e04ca20ae4",
   "metadata": {},
   "outputs": [
    {
     "name": "stdout",
     "output_type": "stream",
     "text": [
      "328.7350427350427\n",
      "302.2857142857143\n"
     ]
    }
   ],
   "source": [
    "# Let's see if students with higher chance of admission have a higher GRE score on average\n",
    "print(gsa[gsa[\"Chance_of_Admit\"] > 0.8][\"GRE_Score\"].mean()) # these are the higher chance of admit guys\n",
    "print(gsa[gsa[\"Chance_of_Admit\"] < 0.4][\"GRE_Score\"].mean())"
   ]
  },
  {
   "cell_type": "code",
   "execution_count": 23,
   "id": "17c62f5b-626c-485a-9771-3b3380a115e8",
   "metadata": {},
   "outputs": [
    {
     "name": "stdout",
     "output_type": "stream",
     "text": [
      "3.7106666666666666\n",
      "3.0222857142857142\n"
     ]
    }
   ],
   "source": [
    "print(gsa[gsa[\"Chance_of_Admit\"] > 0.8][\"CGPA\"].mean()) # these are the higher chance of admit guys\n",
    "print(gsa[gsa[\"Chance_of_Admit\"] < 0.4][\"CGPA\"].mean())"
   ]
  },
  {
   "cell_type": "code",
   "execution_count": null,
   "id": "80dd305a-f222-485c-87dd-1503be82189a",
   "metadata": {},
   "outputs": [],
   "source": []
  }
 ],
 "metadata": {
  "kernelspec": {
   "display_name": "Python 3 (ipykernel)",
   "language": "python",
   "name": "python3"
  },
  "language_info": {
   "codemirror_mode": {
    "name": "ipython",
    "version": 3
   },
   "file_extension": ".py",
   "mimetype": "text/x-python",
   "name": "python",
   "nbconvert_exporter": "python",
   "pygments_lexer": "ipython3",
   "version": "3.10.12"
  }
 },
 "nbformat": 4,
 "nbformat_minor": 5
}
