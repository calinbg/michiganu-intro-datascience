{
 "cells": [
  {
   "cell_type": "code",
   "execution_count": 12,
   "id": "3d69f708-3bad-4a52-be31-7b1184e2f380",
   "metadata": {},
   "outputs": [],
   "source": [
    "import pandas as pd\n",
    "import numpy as np"
   ]
  },
  {
   "cell_type": "markdown",
   "id": "9e83fee0-c18b-4266-9fc8-f38bf578622a",
   "metadata": {},
   "source": [
    "# PANDAS"
   ]
  },
  {
   "cell_type": "markdown",
   "id": "b6946b77-1432-4984-b042-42ba7f531d4d",
   "metadata": {},
   "source": [
    "## The Series object\n",
    "\n",
    "It's a one-dimensional array-like object containing a sequence of values of the same type and an associated array of data labels called its index.\n",
    "\n"
   ]
  },
  {
   "cell_type": "code",
   "execution_count": 18,
   "id": "2e6dada8-e0ef-406a-8236-e4b75a94c69a",
   "metadata": {},
   "outputs": [
    {
     "name": "stdout",
     "output_type": "stream",
     "text": [
      "0    Alice\n",
      "1     Jack\n",
      "2    Molly\n",
      "dtype: object\n",
      "<NumpyExtensionArray>\n",
      "['Alice', 'Jack', 'Molly']\n",
      "Length: 3, dtype: object\n",
      "RangeIndex(start=0, stop=3, step=1)\n"
     ]
    }
   ],
   "source": [
    "s1 = pd.Series(['Alice', 'Jack', 'Molly'])\n",
    "print(s1)\n",
    "print(s1.array)\n",
    "print(s1.index)"
   ]
  },
  {
   "cell_type": "markdown",
   "id": "d2dfcb33-2e7b-4f63-b618-c1fd8fbb37a5",
   "metadata": {},
   "source": [
    "^\n",
    "\n",
    "So its array is actually a numpy array (that can also contain special extension array types).\n",
    "\n",
    "Its index is determined by what we pass as an index (if we pass anything).\n",
    "\n",
    "Here we didn't pass anything so the index is a range (RangeIndex)."
   ]
  },
  {
   "cell_type": "code",
   "execution_count": 5,
   "id": "82fb27c4-9560-4bc3-a7a3-5863c18151b4",
   "metadata": {},
   "outputs": [
    {
     "data": {
      "text/plain": [
       "0    0\n",
       "1    1\n",
       "2    2\n",
       "3    3\n",
       "dtype: int64"
      ]
     },
     "execution_count": 5,
     "metadata": {},
     "output_type": "execute_result"
    }
   ],
   "source": [
    "s2 = pd.Series([0, 1, 2, 3])\n",
    "s2"
   ]
  },
  {
   "cell_type": "markdown",
   "id": "c6905e7d-0013-4fc0-a77d-19da0766325b",
   "metadata": {},
   "source": [
    "^\n",
    "\n",
    "pandas automatically infers the type based on the data we provide.\n",
    "\n",
    "What about how pandas handles missing data?"
   ]
  },
  {
   "cell_type": "code",
   "execution_count": 6,
   "id": "6b7f9b06-0861-4a22-841e-7897e40da6c9",
   "metadata": {},
   "outputs": [
    {
     "data": {
      "text/plain": [
       "0    Alice\n",
       "1     Jack\n",
       "2     None\n",
       "dtype: object"
      ]
     },
     "execution_count": 6,
     "metadata": {},
     "output_type": "execute_result"
    }
   ],
   "source": [
    "s3 = pd.Series(['Alice', 'Jack', None])\n",
    "s3"
   ]
  },
  {
   "cell_type": "markdown",
   "id": "ec8b6125-bca6-4766-98df-1d6f2930c0b8",
   "metadata": {},
   "source": [
    "For strings, it doesn't change too much and pandas actually stores None for the missing value.\n",
    "\n",
    "What about for numbers?"
   ]
  },
  {
   "cell_type": "code",
   "execution_count": 8,
   "id": "dd0a8797-b3f8-4c9c-8d4d-3907158033e1",
   "metadata": {},
   "outputs": [
    {
     "data": {
      "text/plain": [
       "0    NaN\n",
       "1    1.0\n",
       "2    2.0\n",
       "3    3.0\n",
       "dtype: float64"
      ]
     },
     "execution_count": 8,
     "metadata": {},
     "output_type": "execute_result"
    }
   ],
   "source": [
    "s4 = pd.Series([None, 1, 2, 3])\n",
    "s4"
   ]
  },
  {
   "cell_type": "markdown",
   "id": "65fbb5be-8f8f-4265-a775-a763b1e82919",
   "metadata": {},
   "source": [
    "pandas (actually Numpy) stores the missing value as NaN, which is different from None.\n",
    "\n",
    "Underneath, pandas represents NaN as a floating point number"
   ]
  },
  {
   "cell_type": "code",
   "execution_count": 17,
   "id": "f0886c3d-1197-4429-a9f8-d4c80ef1dbd5",
   "metadata": {},
   "outputs": [
    {
     "name": "stdout",
     "output_type": "stream",
     "text": [
      "False\n",
      "False\n",
      "True\n"
     ]
    }
   ],
   "source": [
    "print(np.nan == None)\n",
    "print(np.nan == np.nan)\n",
    "print(np.isnan(np.nan))"
   ]
  },
  {
   "cell_type": "code",
   "execution_count": 20,
   "id": "14d1e79e-0cd8-4b32-8ae6-c2b446d83a70",
   "metadata": {},
   "outputs": [
    {
     "name": "stdout",
     "output_type": "stream",
     "text": [
      "Alice    3.45\n",
      "Max      3.60\n",
      "Jimmy    3.00\n",
      "dtype: float64\n",
      "<NumpyExtensionArray>\n",
      "[3.45, 3.6, 3.0]\n",
      "Length: 3, dtype: float64\n",
      "Index(['Alice', 'Max', 'Jimmy'], dtype='object')\n"
     ]
    }
   ],
   "source": [
    "scores = {\n",
    "    \"Alice\": 3.45,\n",
    "    \"Max\": 3.6,\n",
    "    \"Jimmy\": 3\n",
    "}\n",
    "\n",
    "s5 = pd.Series(scores)\n",
    "print(s5)\n",
    "print(s5.array)\n",
    "print(s5.index)"
   ]
  },
  {
   "cell_type": "code",
   "execution_count": 22,
   "id": "0e7d8536-8cbd-4004-be19-ed579673aec7",
   "metadata": {},
   "outputs": [
    {
     "data": {
      "text/plain": [
       "d    4\n",
       "b    7\n",
       "a   -5\n",
       "c    3\n",
       "dtype: int64"
      ]
     },
     "execution_count": 22,
     "metadata": {},
     "output_type": "execute_result"
    }
   ],
   "source": [
    "# Alternative creation\n",
    "\n",
    "s6 = pd.Series([4, 7, -5, 3], index=[\"d\", \"b\", \"a\", \"c\"])\n",
    "s6"
   ]
  },
  {
   "cell_type": "code",
   "execution_count": 23,
   "id": "6190ff09-a684-459b-a8d1-d11168582897",
   "metadata": {},
   "outputs": [
    {
     "name": "stdout",
     "output_type": "stream",
     "text": [
      "-5\n",
      "a   -5\n",
      "b    7\n",
      "c    3\n",
      "dtype: int64\n"
     ]
    }
   ],
   "source": [
    "# We can use the labels to access the data\n",
    "print(s6[\"a\"])\n",
    "print(s6[[\"a\", \"b\", \"c\"]])"
   ]
  },
  {
   "cell_type": "code",
   "execution_count": 26,
   "id": "506bf2c1-f1a9-4278-a875-56348aee0419",
   "metadata": {},
   "outputs": [
    {
     "name": "stdout",
     "output_type": "stream",
     "text": [
      "d    4\n",
      "b    7\n",
      "c    3\n",
      "dtype: int64\n",
      "d    16\n",
      "b    49\n",
      "a    25\n",
      "c     9\n",
      "dtype: int64\n",
      "d      54.598150\n",
      "b    1096.633158\n",
      "a       0.006738\n",
      "c      20.085537\n",
      "dtype: float64\n"
     ]
    }
   ],
   "source": [
    "# We can use Boolean indexing because it's numpy\n",
    "print(s6[s6 > 0])\n",
    "\n",
    "# We can do math operations\n",
    "print(s6**2)\n",
    "\n",
    "print(np.exp(s6))"
   ]
  },
  {
   "cell_type": "code",
   "execution_count": 27,
   "id": "ad23792f-44d9-4f5b-87b3-55e5e32c8292",
   "metadata": {},
   "outputs": [
    {
     "name": "stdout",
     "output_type": "stream",
     "text": [
      "True\n",
      "False\n"
     ]
    }
   ],
   "source": [
    "print(\"b\" in s6)\n",
    "print(\"e\" in s6)"
   ]
  },
  {
   "cell_type": "code",
   "execution_count": 29,
   "id": "c7f1c7df-424a-499c-922e-c4cbf23360a1",
   "metadata": {},
   "outputs": [
    {
     "data": {
      "text/plain": [
       "d    False\n",
       "b    False\n",
       "a    False\n",
       "c    False\n",
       "dtype: bool"
      ]
     },
     "execution_count": 29,
     "metadata": {},
     "output_type": "execute_result"
    }
   ],
   "source": [
    "s6.isna() # check for missing data"
   ]
  },
  {
   "cell_type": "code",
   "execution_count": 30,
   "id": "f727df64-23e9-4246-87de-1167dce64cb9",
   "metadata": {},
   "outputs": [
    {
     "data": {
      "text/plain": [
       "Ohio      35000\n",
       "Texas     71000\n",
       "Oregon    16000\n",
       "Utah       5000\n",
       "dtype: int64"
      ]
     },
     "execution_count": 30,
     "metadata": {},
     "output_type": "execute_result"
    }
   ],
   "source": [
    "sdata = {\"Ohio\": 35000, \"Texas\": 71000, \"Oregon\": 16000, \"Utah\": 5000}\n",
    "\n",
    "s7 = pd.Series(sdata)\n",
    "s7"
   ]
  },
  {
   "cell_type": "code",
   "execution_count": 31,
   "id": "192bc301-8edb-47f8-b889-bc471c628443",
   "metadata": {},
   "outputs": [
    {
     "data": {
      "text/plain": [
       "California        NaN\n",
       "Ohio          35000.0\n",
       "Oregon        16000.0\n",
       "Texas         71000.0\n",
       "dtype: float64"
      ]
     },
     "execution_count": 31,
     "metadata": {},
     "output_type": "execute_result"
    }
   ],
   "source": [
    "states = [\"California\", \"Ohio\", \"Oregon\", \"Texas\"]\n",
    "# We can do this now: provide the index and the resulting Series will keep the order in our index\n",
    "s8 = pd.Series(sdata, index=states)\n",
    "s8"
   ]
  },
  {
   "cell_type": "code",
   "execution_count": 32,
   "id": "b7a4c7c0-1d34-430b-b68a-0b104020da84",
   "metadata": {},
   "outputs": [
    {
     "data": {
      "text/plain": [
       "California         NaN\n",
       "Ohio           70000.0\n",
       "Oregon         32000.0\n",
       "Texas         142000.0\n",
       "Utah               NaN\n",
       "dtype: float64"
      ]
     },
     "execution_count": 32,
     "metadata": {},
     "output_type": "execute_result"
    }
   ],
   "source": [
    "# And now we can do something cool:\n",
    "s7 + s8"
   ]
  },
  {
   "cell_type": "code",
   "execution_count": 33,
   "id": "b2c99141-23b4-4fcc-894d-db3d437b3f48",
   "metadata": {},
   "outputs": [
    {
     "data": {
      "text/plain": [
       "state\n",
       "California        NaN\n",
       "Ohio          35000.0\n",
       "Oregon        16000.0\n",
       "Texas         71000.0\n",
       "Name: population, dtype: float64"
      ]
     },
     "execution_count": 33,
     "metadata": {},
     "output_type": "execute_result"
    }
   ],
   "source": [
    "# We can alter the \"column\" name as well as the index name:\n",
    "s8.name = \"population\"\n",
    "s8.index.name = \"state\"\n",
    "s8"
   ]
  },
  {
   "cell_type": "markdown",
   "id": "9ba6de37-e388-467d-acc0-7d6697960217",
   "metadata": {},
   "source": [
    "### Indexing\n",
    "\n",
    "An important note: **iloc** and **loc** are not **METHODS**, they're attributes, that's why we use square brackets with them.\n",
    "\n",
    "They are called **indexing operators**"
   ]
  },
  {
   "cell_type": "code",
   "execution_count": 41,
   "id": "f79c37a8-1fe2-418f-9d5d-c1677d640adf",
   "metadata": {},
   "outputs": [
    {
     "name": "stdout",
     "output_type": "stream",
     "text": [
      "35000\n",
      "5000\n"
     ]
    }
   ],
   "source": [
    "# Using iloc (numerical indexing)\n",
    "print(s7.iloc[0])\n",
    "# Using loc (text label)\n",
    "print(s7.loc[\"Utah\"])"
   ]
  },
  {
   "cell_type": "code",
   "execution_count": 44,
   "id": "1ab3a82c-2e55-4480-a4fa-8352b46d6f35",
   "metadata": {},
   "outputs": [
    {
     "name": "stdout",
     "output_type": "stream",
     "text": [
      "Alice    3.45\n",
      "Max      3.60\n",
      "Jimmy    3.00\n",
      "dtype: float64\n",
      "3.35\n"
     ]
    }
   ],
   "source": [
    "print(s5)\n",
    "print(np.sum(s5)/len(s5))"
   ]
  },
  {
   "cell_type": "code",
   "execution_count": 45,
   "id": "eef396dd-003a-43c8-9504-dd7480782686",
   "metadata": {},
   "outputs": [
    {
     "data": {
      "text/plain": [
       "10000"
      ]
     },
     "execution_count": 45,
     "metadata": {},
     "output_type": "execute_result"
    }
   ],
   "source": [
    "numbers = pd.Series(np.random.randint(0,2000,10000))\n",
    "len(numbers)"
   ]
  },
  {
   "cell_type": "code",
   "execution_count": 48,
   "id": "f8616b92-bb28-488f-b2e2-b57459219fdb",
   "metadata": {},
   "outputs": [
    {
     "name": "stdout",
     "output_type": "stream",
     "text": [
      "870 μs ± 125 μs per loop (mean ± std. dev. of 7 runs, 100 loops each)\n"
     ]
    }
   ],
   "source": [
    "%%timeit -n 100\n",
    "# Let's timeit to see just how much faster vectorized ops are\n",
    "total = 0\n",
    "for number in numbers:\n",
    "    total+=number\n",
    "\n",
    "total/len(numbers)"
   ]
  },
  {
   "cell_type": "code",
   "execution_count": 49,
   "id": "44a192be-998c-464a-b033-15737cc032a2",
   "metadata": {},
   "outputs": [
    {
     "name": "stdout",
     "output_type": "stream",
     "text": [
      "55.7 μs ± 5.78 μs per loop (mean ± std. dev. of 7 runs, 100 loops each)\n"
     ]
    }
   ],
   "source": [
    "%%timeit -n 100\n",
    "total = np.sum(numbers)\n",
    "total/len(numbers)"
   ]
  },
  {
   "cell_type": "markdown",
   "id": "7f064334-ab79-44d9-bd30-2fe915c81b5f",
   "metadata": {},
   "source": [
    "## The Dataframe object\n",
    "\n",
    "If a Series is a one-dimensional structure, we can look at a Dataframe as a two-dimensional structure.\n",
    "\n",
    "It can be thought of as a dictionary of Series all sharing the same index."
   ]
  },
  {
   "cell_type": "code",
   "execution_count": 34,
   "id": "36c70f2a-57b4-4c47-a0d6-c6f494d819ab",
   "metadata": {},
   "outputs": [
    {
     "data": {
      "text/html": [
       "<div>\n",
       "<style scoped>\n",
       "    .dataframe tbody tr th:only-of-type {\n",
       "        vertical-align: middle;\n",
       "    }\n",
       "\n",
       "    .dataframe tbody tr th {\n",
       "        vertical-align: top;\n",
       "    }\n",
       "\n",
       "    .dataframe thead th {\n",
       "        text-align: right;\n",
       "    }\n",
       "</style>\n",
       "<table border=\"1\" class=\"dataframe\">\n",
       "  <thead>\n",
       "    <tr style=\"text-align: right;\">\n",
       "      <th></th>\n",
       "      <th>state</th>\n",
       "      <th>year</th>\n",
       "      <th>pop</th>\n",
       "    </tr>\n",
       "  </thead>\n",
       "  <tbody>\n",
       "    <tr>\n",
       "      <th>0</th>\n",
       "      <td>Ohio</td>\n",
       "      <td>2000</td>\n",
       "      <td>1.5</td>\n",
       "    </tr>\n",
       "    <tr>\n",
       "      <th>1</th>\n",
       "      <td>Ohio</td>\n",
       "      <td>2001</td>\n",
       "      <td>1.7</td>\n",
       "    </tr>\n",
       "    <tr>\n",
       "      <th>2</th>\n",
       "      <td>Ohio</td>\n",
       "      <td>2002</td>\n",
       "      <td>3.6</td>\n",
       "    </tr>\n",
       "    <tr>\n",
       "      <th>3</th>\n",
       "      <td>Nevada</td>\n",
       "      <td>2001</td>\n",
       "      <td>2.4</td>\n",
       "    </tr>\n",
       "    <tr>\n",
       "      <th>4</th>\n",
       "      <td>Nevada</td>\n",
       "      <td>2002</td>\n",
       "      <td>2.9</td>\n",
       "    </tr>\n",
       "    <tr>\n",
       "      <th>5</th>\n",
       "      <td>Nevada</td>\n",
       "      <td>2003</td>\n",
       "      <td>3.2</td>\n",
       "    </tr>\n",
       "  </tbody>\n",
       "</table>\n",
       "</div>"
      ],
      "text/plain": [
       "    state  year  pop\n",
       "0    Ohio  2000  1.5\n",
       "1    Ohio  2001  1.7\n",
       "2    Ohio  2002  3.6\n",
       "3  Nevada  2001  2.4\n",
       "4  Nevada  2002  2.9\n",
       "5  Nevada  2003  3.2"
      ]
     },
     "execution_count": 34,
     "metadata": {},
     "output_type": "execute_result"
    }
   ],
   "source": [
    "data = {\"state\": [\"Ohio\", \"Ohio\", \"Ohio\", \"Nevada\", \"Nevada\", \"Nevada\"],\n",
    "\"year\": [2000, 2001, 2002, 2001, 2002, 2003],\n",
    "\"pop\": [1.5, 1.7, 3.6, 2.4, 2.9, 3.2]}\n",
    "df1 = pd.DataFrame(data)\n",
    "df1"
   ]
  },
  {
   "cell_type": "code",
   "execution_count": 50,
   "id": "6770b4b8-ab2f-48f4-87ed-fcf6f15431b0",
   "metadata": {},
   "outputs": [
    {
     "data": {
      "text/html": [
       "<div>\n",
       "<style scoped>\n",
       "    .dataframe tbody tr th:only-of-type {\n",
       "        vertical-align: middle;\n",
       "    }\n",
       "\n",
       "    .dataframe tbody tr th {\n",
       "        vertical-align: top;\n",
       "    }\n",
       "\n",
       "    .dataframe thead th {\n",
       "        text-align: right;\n",
       "    }\n",
       "</style>\n",
       "<table border=\"1\" class=\"dataframe\">\n",
       "  <thead>\n",
       "    <tr style=\"text-align: right;\">\n",
       "      <th></th>\n",
       "      <th>name</th>\n",
       "      <th>class</th>\n",
       "      <th>score</th>\n",
       "    </tr>\n",
       "  </thead>\n",
       "  <tbody>\n",
       "    <tr>\n",
       "      <th>school1</th>\n",
       "      <td>Alice</td>\n",
       "      <td>Physics</td>\n",
       "      <td>85</td>\n",
       "    </tr>\n",
       "    <tr>\n",
       "      <th>school2</th>\n",
       "      <td>Jack</td>\n",
       "      <td>Chemistry</td>\n",
       "      <td>70</td>\n",
       "    </tr>\n",
       "    <tr>\n",
       "      <th>school3</th>\n",
       "      <td>Helen</td>\n",
       "      <td>Biology</td>\n",
       "      <td>90</td>\n",
       "    </tr>\n",
       "  </tbody>\n",
       "</table>\n",
       "</div>"
      ],
      "text/plain": [
       "          name      class score\n",
       "school1  Alice    Physics    85\n",
       "school2   Jack  Chemistry    70\n",
       "school3  Helen    Biology    90"
      ]
     },
     "execution_count": 50,
     "metadata": {},
     "output_type": "execute_result"
    }
   ],
   "source": [
    "record1 = pd.Series({\n",
    "    \"name\": \"Alice\",\n",
    "    \"class\": \"Physics\",\n",
    "    \"score\": \"85\"\n",
    "})\n",
    "record2 = pd.Series({\n",
    "    \"name\": \"Jack\",\n",
    "    \"class\": \"Chemistry\",\n",
    "    \"score\": \"70\"\n",
    "})\n",
    "record3 = pd.Series({\n",
    "    \"name\": \"Helen\",\n",
    "    \"class\": \"Biology\",\n",
    "    \"score\": \"90\"\n",
    "})\n",
    "\n",
    "df2 = pd.DataFrame([record1, record2, record3], index=[\"school1\", \"school2\", \"school1\"])\n",
    "df2"
   ]
  },
  {
   "cell_type": "code",
   "execution_count": null,
   "id": "9c989f16-a493-43cf-90f8-5de270a5a1d1",
   "metadata": {},
   "outputs": [],
   "source": []
  }
 ],
 "metadata": {
  "kernelspec": {
   "display_name": "Python 3 (ipykernel)",
   "language": "python",
   "name": "python3"
  },
  "language_info": {
   "codemirror_mode": {
    "name": "ipython",
    "version": 3
   },
   "file_extension": ".py",
   "mimetype": "text/x-python",
   "name": "python",
   "nbconvert_exporter": "python",
   "pygments_lexer": "ipython3",
   "version": "3.10.12"
  }
 },
 "nbformat": 4,
 "nbformat_minor": 5
}
