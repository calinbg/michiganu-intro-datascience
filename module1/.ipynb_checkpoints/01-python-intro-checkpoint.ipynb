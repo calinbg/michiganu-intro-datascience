{
 "cells": [
  {
   "cell_type": "code",
   "execution_count": 13,
   "id": "95abc68a-a15b-4ea4-963c-93f2fcae5098",
   "metadata": {},
   "outputs": [],
   "source": [
    "# Tuples\n",
    "\n",
    "x = (1, 'a', 2, 'b')\n",
    "\n",
    "# Lists\n",
    "\n",
    "y = [1, 'a', 'b', x]\n",
    "\n",
    "# Dictionaries\n",
    "\n",
    "z = {\n",
    "    'Christopher Brooks': 'brooks@xx.net'\n",
    "}"
   ]
  },
  {
   "cell_type": "code",
   "execution_count": 2,
   "id": "86664d0a-994c-4bd2-b782-fc1ed47d7661",
   "metadata": {},
   "outputs": [
    {
     "data": {
      "text/plain": [
       "(1, 'a', 2, 'b', 0, 'x')"
      ]
     },
     "execution_count": 2,
     "metadata": {},
     "output_type": "execute_result"
    }
   ],
   "source": [
    "# Add operator concatenates\n",
    "x + (0,'x')"
   ]
  },
  {
   "cell_type": "code",
   "execution_count": 4,
   "id": "7962c147-c21b-49a4-bd4a-cd7b07123e8b",
   "metadata": {},
   "outputs": [
    {
     "data": {
      "text/plain": [
       "[1, 'a', 'b', (1, 'a', 2, 'b'), 3.3]"
      ]
     },
     "execution_count": 4,
     "metadata": {},
     "output_type": "execute_result"
    }
   ],
   "source": [
    "# Add operator concatenates\n",
    "y + [3.3]"
   ]
  },
  {
   "cell_type": "code",
   "execution_count": 5,
   "id": "27dfe923-b6c4-41e8-8e89-5d32b2817ac4",
   "metadata": {},
   "outputs": [
    {
     "data": {
      "text/plain": [
       "(1, 'a', 2, 'b', 1, 'a', 2, 'b')"
      ]
     },
     "execution_count": 5,
     "metadata": {},
     "output_type": "execute_result"
    }
   ],
   "source": [
    "# Multiply operator repeats the list\n",
    "x*2"
   ]
  },
  {
   "cell_type": "code",
   "execution_count": 6,
   "id": "8880ab94-a741-4f1b-8157-73d40e2faab2",
   "metadata": {},
   "outputs": [
    {
     "data": {
      "text/plain": [
       "[1,\n",
       " 'a',\n",
       " 'b',\n",
       " (1, 'a', 2, 'b'),\n",
       " 1,\n",
       " 'a',\n",
       " 'b',\n",
       " (1, 'a', 2, 'b'),\n",
       " 1,\n",
       " 'a',\n",
       " 'b',\n",
       " (1, 'a', 2, 'b')]"
      ]
     },
     "execution_count": 6,
     "metadata": {},
     "output_type": "execute_result"
    }
   ],
   "source": [
    "y * 3"
   ]
  },
  {
   "cell_type": "code",
   "execution_count": 8,
   "id": "4486a486-7e9c-4ac4-9342-63557b40c19d",
   "metadata": {},
   "outputs": [
    {
     "data": {
      "text/plain": [
       "False"
      ]
     },
     "execution_count": 8,
     "metadata": {},
     "output_type": "execute_result"
    }
   ],
   "source": [
    "# The 'in' operator\n",
    "0 in x"
   ]
  },
  {
   "cell_type": "code",
   "execution_count": 9,
   "id": "d775337c-949d-4649-b8ac-40fa0fa82fe0",
   "metadata": {},
   "outputs": [
    {
     "name": "stdout",
     "output_type": "stream",
     "text": [
      "T\n",
      "T\n",
      "Th\n",
      "g\n",
      "Thi\n",
      "s is some string\n"
     ]
    }
   ],
   "source": [
    "# Slicing\n",
    "s = 'This is some string'\n",
    "\n",
    "print(s[0])\n",
    "print(s[0:1])\n",
    "print(s[0:2])\n",
    "print(s[-1])\n",
    "print(s[:3])\n",
    "print(s[3:])"
   ]
  },
  {
   "cell_type": "code",
   "execution_count": 11,
   "id": "8da1c8a9-27e3-44e7-b82c-bd422ac7ace6",
   "metadata": {},
   "outputs": [
    {
     "name": "stdout",
     "output_type": "stream",
     "text": [
      "Christopher Brooks\n",
      "ChristopherChristopherChristopher\n",
      "True\n"
     ]
    }
   ],
   "source": [
    "firstname = 'Christopher'\n",
    "lastname = 'Brooks'\n",
    "\n",
    "print(firstname+ ' ' + lastname)\n",
    "print(firstname * 3)\n",
    "print('Chris' in firstname)"
   ]
  },
  {
   "cell_type": "code",
   "execution_count": 12,
   "id": "b4f573a1-5dee-4da3-9703-8ff2a69d1404",
   "metadata": {},
   "outputs": [
    {
     "name": "stdout",
     "output_type": "stream",
     "text": [
      "Christopher\n",
      "Brooks\n"
     ]
    }
   ],
   "source": [
    "name = 'Christopher Arthur Hansen Brooks'\n",
    "\n",
    "firstname = name.split(' ')[0]\n",
    "lastname = name.split(' ')[-1]\n",
    "\n",
    "print(firstname)\n",
    "print(lastname)"
   ]
  },
  {
   "cell_type": "markdown",
   "id": "233629ad-3b50-45bf-b2ee-2cfa6c590ca4",
   "metadata": {},
   "source": [
    "### Is object iterable?\n",
    "\n",
    "```python\n",
    "def isiterable(obj):\n",
    "    try:\n",
    "        iter(obj)\n",
    "        return True\n",
    "    except TypeError:\n",
    "        return False\n",
    "\n",
    "isiterable(tuple([1,2,3]))\n",
    "```"
   ]
  },
  {
   "cell_type": "markdown",
   "id": "f26df836-b680-401d-8f8a-ea6409aeb4bc",
   "metadata": {},
   "source": [
    "### Primary operators in python\n",
    "\n",
    "```python\n",
    "a & b # (I thought this was a pandas construct, lol)\n",
    "# True if both a and b are True; for integers, take the bitwise AND\n",
    "\n",
    "a | b # True if either a or b is True; for integers, take the bitwise OR\n",
    "a ^ b # For Booleans, True if a or b is True, but not both; for integers, take the bitwise EXCLUSIVE-OR"
   ]
  },
  {
   "cell_type": "markdown",
   "id": "6309f550-0a98-44bc-bf30-31b597701650",
   "metadata": {},
   "source": [
    "! All types are mutable, except for ***TUPLE*** and ***STRING***"
   ]
  },
  {
   "cell_type": "markdown",
   "id": "70bc99db-3bf5-49c1-8170-e40c563b6605",
   "metadata": {},
   "source": [
    "### String templating (one way)"
   ]
  },
  {
   "cell_type": "code",
   "execution_count": 14,
   "id": "904556da-77d3-4dc9-bde0-a48b656e3500",
   "metadata": {},
   "outputs": [
    {
     "data": {
      "text/plain": [
       "'88.46 Argentine Pesos are worth US$1'"
      ]
     },
     "execution_count": 14,
     "metadata": {},
     "output_type": "execute_result"
    }
   ],
   "source": [
    "template = \"{0:.2f} {1:s} are worth US${2:d}\"\n",
    "template.format(88.46, \"Argentine Pesos\", 1)"
   ]
  },
  {
   "cell_type": "markdown",
   "id": "d28ff1e0-e0d7-4d26-9bef-f4befdac90af",
   "metadata": {},
   "source": [
    "### String templating (another way - f-strings)"
   ]
  },
  {
   "cell_type": "code",
   "execution_count": 17,
   "id": "cfe3684a-a41f-443e-b06d-5f559bf441f2",
   "metadata": {},
   "outputs": [
    {
     "data": {
      "text/plain": [
       "'88.46 Argentine Pesos are worth US1$'"
      ]
     },
     "execution_count": 17,
     "metadata": {},
     "output_type": "execute_result"
    }
   ],
   "source": [
    "amount = 88.4623\n",
    "currency = \"Argentine Pesos\"\n",
    "template = f\"{amount:.2f} {currency:s} are worth US1$\"\n",
    "template"
   ]
  },
  {
   "cell_type": "markdown",
   "id": "a9a4ab38-b720-456c-a81c-2b4dcd721da6",
   "metadata": {},
   "source": [
    "### Dates and times"
   ]
  },
  {
   "cell_type": "code",
   "execution_count": 20,
   "id": "9f973337-d310-46ed-aa14-ba2c684de3ae",
   "metadata": {},
   "outputs": [
    {
     "name": "stdout",
     "output_type": "stream",
     "text": [
      "1\n",
      "0\n"
     ]
    }
   ],
   "source": [
    "from datetime import datetime, date, time\n",
    "\n",
    "dt = datetime(2025, 1, 1)\n",
    "\n",
    "print(dt.day)\n",
    "print(dt.minute)"
   ]
  },
  {
   "cell_type": "code",
   "execution_count": 26,
   "id": "6a77c096-b80a-455f-a082-f5019b0b17e0",
   "metadata": {},
   "outputs": [
    {
     "name": "stdout",
     "output_type": "stream",
     "text": [
      "2025-01-01\n",
      "<class 'datetime.date'>\n",
      "00:00:00\n",
      "<class 'datetime.time'>\n"
     ]
    }
   ],
   "source": [
    "# We can extract the respective date and time objects\n",
    "print(dt.date())\n",
    "print(type(dt.date()))\n",
    "print(dt.time())\n",
    "print(type(dt.time()))"
   ]
  },
  {
   "cell_type": "code",
   "execution_count": 29,
   "id": "d93afbe8-381b-4b24-804f-18c1bf5f8cd0",
   "metadata": {},
   "outputs": [
    {
     "data": {
      "text/plain": [
       "'01.01.2025 00:00'"
      ]
     },
     "execution_count": 29,
     "metadata": {},
     "output_type": "execute_result"
    }
   ],
   "source": [
    "# Format the date\n",
    "dt.strftime(\"%d.%m.%Y %H:%M\")"
   ]
  },
  {
   "cell_type": "code",
   "execution_count": 32,
   "id": "5f09dfad-dc3e-4d31-b842-eb9aa44ee6a8",
   "metadata": {},
   "outputs": [
    {
     "data": {
      "text/plain": [
       "datetime.datetime(2022, 2, 2, 10, 0, 25)"
      ]
     },
     "execution_count": 32,
     "metadata": {},
     "output_type": "execute_result"
    }
   ],
   "source": [
    "# Convert string to datetime\n",
    "datetime.strptime(\"20220202100025\", \"%Y%m%d%H%M%S\")"
   ]
  },
  {
   "cell_type": "code",
   "execution_count": 37,
   "id": "77fa27bb-a481-4aad-b992-f78aaae3f545",
   "metadata": {},
   "outputs": [
    {
     "name": "stdout",
     "output_type": "stream",
     "text": [
      "1 day, 0:00:00\n",
      "-1 day, 0:00:00\n"
     ]
    }
   ],
   "source": [
    "# TIMEDELTA\n",
    "dt2 = datetime(2025, 1, 2)\n",
    "\n",
    "print(dt2 - dt)\n",
    "print(dt - dt2)"
   ]
  },
  {
   "cell_type": "code",
   "execution_count": 38,
   "id": "66f65ecb-8e7a-4163-85d0-24d9c5444bf6",
   "metadata": {},
   "outputs": [
    {
     "data": {
      "text/plain": [
       "datetime.datetime(2025, 1, 2, 0, 0)"
      ]
     },
     "execution_count": 38,
     "metadata": {},
     "output_type": "execute_result"
    }
   ],
   "source": [
    "dt + (dt2 - dt)"
   ]
  },
  {
   "cell_type": "markdown",
   "id": "87a1803f-cccf-40c2-97d9-61c4f3bd8b3e",
   "metadata": {},
   "source": [
    "## Control flow"
   ]
  },
  {
   "cell_type": "markdown",
   "id": "5bf289ff-804f-4987-acc4-afad4f7d90d5",
   "metadata": {},
   "source": [
    "### If elif else"
   ]
  },
  {
   "cell_type": "code",
   "execution_count": 43,
   "id": "c33f5a0f-a66d-40f2-803a-d74f27360379",
   "metadata": {},
   "outputs": [
    {
     "name": "stdout",
     "output_type": "stream",
     "text": [
      "It's negative\n"
     ]
    }
   ],
   "source": [
    "nr = -1\n",
    "if nr < 0:\n",
    "    print(\"It's negative\")\n",
    "elif nr == 0:\n",
    "    print(\"Equal to zero\")\n",
    "elif 0 < nr < 5:\n",
    "    print(\"Positive but smaller than 5\")\n",
    "else:\n",
    "    print(\"Positive and larger than or equal to 5\")"
   ]
  },
  {
   "cell_type": "markdown",
   "id": "25a5448f-76dd-4ba6-b74e-8ff67a479885",
   "metadata": {},
   "source": [
    "### For loops"
   ]
  },
  {
   "cell_type": "code",
   "execution_count": 45,
   "id": "97b49a42-72e8-4d15-9318-55d197a29965",
   "metadata": {},
   "outputs": [
    {
     "name": "stdout",
     "output_type": "stream",
     "text": [
      "1\n"
     ]
    }
   ],
   "source": [
    "# Iterate over a collection\n",
    "for i in x:\n",
    "    if i is None:\n",
    "        # Skip over for some condition\n",
    "        continue\n",
    "    if isinstance(i, str):\n",
    "        # Break out of loop for another condition\n",
    "        break\n",
    "    print(i)"
   ]
  },
  {
   "cell_type": "code",
   "execution_count": 48,
   "id": "dbd3b96d-d695-4725-8726-8d42ac0e7cf0",
   "metadata": {},
   "outputs": [
    {
     "name": "stdout",
     "output_type": "stream",
     "text": [
      "0\n",
      "1\n"
     ]
    }
   ],
   "source": [
    "# Iterate over range (oldschool style for(i=0; i<n; i++))\n",
    "for n in range(0, 2): # range excludes last element\n",
    "    print(n)"
   ]
  },
  {
   "cell_type": "code",
   "execution_count": 49,
   "id": "c996807e-23a9-472b-bf5a-330ed29d12df",
   "metadata": {},
   "outputs": [
    {
     "name": "stdout",
     "output_type": "stream",
     "text": [
      "1\n",
      "2\n",
      "3\n",
      "4\n"
     ]
    }
   ],
   "source": [
    "seq = [1, 2, 3, 4]\n",
    "\n",
    "for i in range(len(seq)):\n",
    "    print(seq[i])"
   ]
  },
  {
   "cell_type": "markdown",
   "id": "304671b6-cfbe-4206-aa17-a4f6057faab6",
   "metadata": {},
   "source": [
    "## DATA STRUCTURES"
   ]
  },
  {
   "cell_type": "markdown",
   "id": "60cd5065-bc1c-4e79-854a-870ea8227b34",
   "metadata": {},
   "source": [
    "### Tuple"
   ]
  },
  {
   "cell_type": "code",
   "execution_count": 54,
   "id": "2dfeaf81-0afa-4eef-95d7-9f2e7c01d1d9",
   "metadata": {},
   "outputs": [
    {
     "data": {
      "text/plain": [
       "tuple"
      ]
     },
     "execution_count": 54,
     "metadata": {},
     "output_type": "execute_result"
    }
   ],
   "source": [
    "tup = (1, 2, 3, 4)\n",
    "tup = 1, 2, 3, 4\n",
    "\n",
    "type(tup)"
   ]
  },
  {
   "cell_type": "code",
   "execution_count": 53,
   "id": "6d847e82-6248-4454-919e-8ba8e495b1bd",
   "metadata": {},
   "outputs": [
    {
     "ename": "TypeError",
     "evalue": "'tuple' object does not support item assignment",
     "output_type": "error",
     "traceback": [
      "\u001b[0;31m---------------------------------------------------------------------------\u001b[0m",
      "\u001b[0;31mTypeError\u001b[0m                                 Traceback (most recent call last)",
      "Cell \u001b[0;32mIn[53], line 2\u001b[0m\n\u001b[1;32m      1\u001b[0m \u001b[38;5;66;03m# Immutable\u001b[39;00m\n\u001b[0;32m----> 2\u001b[0m \u001b[43mtup\u001b[49m\u001b[43m[\u001b[49m\u001b[38;5;241;43m0\u001b[39;49m\u001b[43m]\u001b[49m \u001b[38;5;241m=\u001b[39m \u001b[38;5;241m2\u001b[39m\n",
      "\u001b[0;31mTypeError\u001b[0m: 'tuple' object does not support item assignment"
     ]
    }
   ],
   "source": [
    "# Immutable\n",
    "tup[0] = 2"
   ]
  },
  {
   "cell_type": "code",
   "execution_count": 55,
   "id": "a232570a-5dbf-4e3f-9f81-e53b46219e6a",
   "metadata": {},
   "outputs": [
    {
     "data": {
      "text/plain": [
       "(1, 2, 3)"
      ]
     },
     "execution_count": 55,
     "metadata": {},
     "output_type": "execute_result"
    }
   ],
   "source": [
    "# We can make a tuple fron a list\n",
    "tuple([1,2,3])"
   ]
  },
  {
   "cell_type": "code",
   "execution_count": 57,
   "id": "a07e71db-116d-477a-b11d-b60fd0c3e201",
   "metadata": {},
   "outputs": [
    {
     "data": {
      "text/plain": [
       "('S', 't', 'r', 'i', 'n', 'g')"
      ]
     },
     "execution_count": 57,
     "metadata": {},
     "output_type": "execute_result"
    }
   ],
   "source": [
    "# We can also make a tuple from a string lol\n",
    "tuple(\"String\")"
   ]
  },
  {
   "cell_type": "code",
   "execution_count": 59,
   "id": "7052b8dd-fcce-4911-ae53-fb48fd6be3bc",
   "metadata": {},
   "outputs": [
    {
     "data": {
      "text/plain": [
       "(4, 5)"
      ]
     },
     "execution_count": 59,
     "metadata": {},
     "output_type": "execute_result"
    }
   ],
   "source": [
    "nested_tup = (1,2,3), (4,5)\n",
    "nested_tup[1]"
   ]
  },
  {
   "cell_type": "code",
   "execution_count": 61,
   "id": "dc8f9276-a804-4b01-bb96-5f35cda6de11",
   "metadata": {},
   "outputs": [
    {
     "data": {
      "text/plain": [
       "1"
      ]
     },
     "execution_count": 61,
     "metadata": {},
     "output_type": "execute_result"
    }
   ],
   "source": [
    "# Unpacking\n",
    "a, b, c, d = tup\n",
    "a"
   ]
  },
  {
   "cell_type": "code",
   "execution_count": 64,
   "id": "acd3809e-8efa-4cb2-9b52-793ae6ab55c1",
   "metadata": {},
   "outputs": [
    {
     "ename": "ValueError",
     "evalue": "too many values to unpack (expected 3)",
     "output_type": "error",
     "traceback": [
      "\u001b[0;31m---------------------------------------------------------------------------\u001b[0m",
      "\u001b[0;31mValueError\u001b[0m                                Traceback (most recent call last)",
      "Cell \u001b[0;32mIn[64], line 2\u001b[0m\n\u001b[1;32m      1\u001b[0m \u001b[38;5;66;03m# Unpacking pitfalls\u001b[39;00m\n\u001b[0;32m----> 2\u001b[0m a, b, c \u001b[38;5;241m=\u001b[39m tup\n",
      "\u001b[0;31mValueError\u001b[0m: too many values to unpack (expected 3)"
     ]
    }
   ],
   "source": [
    "# Unpacking pitfalls\n",
    "a, b, c = tup"
   ]
  },
  {
   "cell_type": "code",
   "execution_count": 65,
   "id": "b209bc56-8445-4584-8a69-18367df77edb",
   "metadata": {},
   "outputs": [
    {
     "ename": "ValueError",
     "evalue": "not enough values to unpack (expected 5, got 4)",
     "output_type": "error",
     "traceback": [
      "\u001b[0;31m---------------------------------------------------------------------------\u001b[0m",
      "\u001b[0;31mValueError\u001b[0m                                Traceback (most recent call last)",
      "Cell \u001b[0;32mIn[65], line 1\u001b[0m\n\u001b[0;32m----> 1\u001b[0m a,b,c,d,e \u001b[38;5;241m=\u001b[39m tup\n",
      "\u001b[0;31mValueError\u001b[0m: not enough values to unpack (expected 5, got 4)"
     ]
    }
   ],
   "source": [
    "a,b,c,d,e = tup"
   ]
  },
  {
   "cell_type": "code",
   "execution_count": 66,
   "id": "ee157420-4df3-4963-9475-f28365e77f1a",
   "metadata": {},
   "outputs": [
    {
     "name": "stdout",
     "output_type": "stream",
     "text": [
      "a=1, b=2, c=3\n",
      "a=4, b=5, c=6\n",
      "a=7, b=8, c=9\n"
     ]
    }
   ],
   "source": [
    "seq = [(1, 2, 3), (4, 5, 6), (7, 8, 9)]\n",
    "\n",
    "for a,b,c in seq:\n",
    "    print(f'a={a}, b={b}, c={c}')"
   ]
  },
  {
   "cell_type": "markdown",
   "id": "9944b031-8cd0-490e-9bf7-7ffd4260d069",
   "metadata": {},
   "source": [
    "### *rest (or *_)"
   ]
  },
  {
   "cell_type": "code",
   "execution_count": 68,
   "id": "5d570b65-2afa-4c3e-974e-b0d103e0be1c",
   "metadata": {},
   "outputs": [
    {
     "name": "stdout",
     "output_type": "stream",
     "text": [
      "1\n",
      "[3, 4]\n"
     ]
    }
   ],
   "source": [
    "a, b, *rest = tup # or *_\n",
    "print(a)\n",
    "print(rest)"
   ]
  },
  {
   "cell_type": "code",
   "execution_count": 69,
   "id": "e456204d-8015-4e1c-a7e9-b56d8d01459f",
   "metadata": {},
   "outputs": [
    {
     "data": {
      "text/plain": [
       "6"
      ]
     },
     "execution_count": 69,
     "metadata": {},
     "output_type": "execute_result"
    }
   ],
   "source": [
    "# Count occurences of a value\n",
    "tup = 1, 2, 2, 2, 3, 4, 5, 2, 6, 2, 7, 2\n",
    "tup.count(2)"
   ]
  },
  {
   "cell_type": "markdown",
   "id": "58a84042-7831-4233-9d04-b47f8d308828",
   "metadata": {},
   "source": [
    "\n",
    "### Lists"
   ]
  },
  {
   "cell_type": "code",
   "execution_count": 70,
   "id": "0f69e9b4-a0f7-4d5e-a0a3-4b24284f3aab",
   "metadata": {},
   "outputs": [
    {
     "data": {
      "text/plain": [
       "[1, 2, 2, 2, 3, 4, 5, 2, 6, 2, 7, 2]"
      ]
     },
     "execution_count": 70,
     "metadata": {},
     "output_type": "execute_result"
    }
   ],
   "source": [
    "lst = list(tup)\n",
    "lst"
   ]
  },
  {
   "cell_type": "code",
   "execution_count": 71,
   "id": "c5604173-f8cd-4c74-bd29-b2077abb4276",
   "metadata": {},
   "outputs": [
    {
     "data": {
      "text/plain": [
       "[2, 2, 2, 2, 3, 4, 5, 2, 6, 2, 7, 2]"
      ]
     },
     "execution_count": 71,
     "metadata": {},
     "output_type": "execute_result"
    }
   ],
   "source": [
    "# Mutable\n",
    "lst[0] = 2\n",
    "lst"
   ]
  },
  {
   "cell_type": "code",
   "execution_count": 84,
   "id": "c64c5368-4d5e-42ec-bb13-4486050542ec",
   "metadata": {},
   "outputs": [
    {
     "data": {
      "text/plain": [
       "['one', 'two', 'three']"
      ]
     },
     "execution_count": 84,
     "metadata": {},
     "output_type": "execute_result"
    }
   ],
   "source": [
    "nrs = ['one', 'two']\n",
    "\n",
    "# Add at the end of list\n",
    "nrs.append('three')\n",
    "nrs"
   ]
  },
  {
   "cell_type": "code",
   "execution_count": 85,
   "id": "558db88b-3b46-4b92-92fb-79c6e0a20aef",
   "metadata": {},
   "outputs": [
    {
     "data": {
      "text/plain": [
       "['one', 'four', 'two', 'three']"
      ]
     },
     "execution_count": 85,
     "metadata": {},
     "output_type": "execute_result"
    }
   ],
   "source": [
    "# Insert at specific location\n",
    "nrs.insert(1, \"four\")\n",
    "nrs"
   ]
  },
  {
   "cell_type": "code",
   "execution_count": 86,
   "id": "abd484a8-3d09-4c18-a7ec-551fbba3abba",
   "metadata": {},
   "outputs": [
    {
     "name": "stdout",
     "output_type": "stream",
     "text": [
      "four\n",
      "['one', 'two', 'three']\n",
      "three\n"
     ]
    }
   ],
   "source": [
    "# Remove and return an element at certain location\n",
    "print(nrs.pop(1))\n",
    "print(nrs)\n",
    "print(nrs.pop()) # By default, pops off the end of the list like any other language\n",
    "print(nrs)"
   ]
  },
  {
   "cell_type": "code",
   "execution_count": 87,
   "id": "c9950bd8-6048-4638-a961-dfbe7aece9e3",
   "metadata": {},
   "outputs": [
    {
     "data": {
      "text/plain": [
       "['two']"
      ]
     },
     "execution_count": 87,
     "metadata": {},
     "output_type": "execute_result"
    }
   ],
   "source": [
    "# Remove from list\n",
    "nrs.remove(\"one\")\n",
    "nrs"
   ]
  },
  {
   "cell_type": "code",
   "execution_count": 92,
   "id": "32200f7d-1740-4811-ac3c-5f479c3ee7f0",
   "metadata": {},
   "outputs": [
    {
     "name": "stdout",
     "output_type": "stream",
     "text": [
      "[1, 2, 3, 4, 5, 6]\n"
     ]
    },
    {
     "data": {
      "text/plain": [
       "[1, 2, 3, 4, 5, 6]"
      ]
     },
     "execution_count": 92,
     "metadata": {},
     "output_type": "execute_result"
    }
   ],
   "source": [
    "print([1,2,3]+[4,5,6]) # Computationally expensive\n",
    "lst = [1,2,3]\n",
    "lst.extend([4,5,6])  # Prefered for efficiency\n",
    "lst"
   ]
  },
  {
   "cell_type": "code",
   "execution_count": 95,
   "id": "7d8998cf-6803-4b5f-aff7-81fc7a604339",
   "metadata": {},
   "outputs": [
    {
     "data": {
      "text/plain": [
       "[1, 2, 3, 4, 5, 6]"
      ]
     },
     "execution_count": 95,
     "metadata": {},
     "output_type": "execute_result"
    }
   ],
   "source": [
    "lst.sort()\n",
    "lst"
   ]
  },
  {
   "cell_type": "markdown",
   "id": "efe5d476-1dc6-4c1f-abc5-62fe7ccbff31",
   "metadata": {},
   "source": [
    "\n",
    "### Dictionaries"
   ]
  },
  {
   "cell_type": "code",
   "execution_count": 96,
   "id": "440d67e4-aa45-4810-be43-a96a08824a71",
   "metadata": {},
   "outputs": [
    {
     "data": {
      "text/plain": [
       "'value1'"
      ]
     },
     "execution_count": 96,
     "metadata": {},
     "output_type": "execute_result"
    }
   ],
   "source": [
    "d1 = {\"a\": \"value1\", \"b\": \"value2\"}\n",
    "d1[\"a\"]"
   ]
  },
  {
   "cell_type": "code",
   "execution_count": 97,
   "id": "1521f103-ea72-490a-9792-568d1f15a712",
   "metadata": {},
   "outputs": [
    {
     "data": {
      "text/plain": [
       "True"
      ]
     },
     "execution_count": 97,
     "metadata": {},
     "output_type": "execute_result"
    }
   ],
   "source": [
    "# Check if key in dict\n",
    "\"b\" in d1"
   ]
  },
  {
   "cell_type": "code",
   "execution_count": 98,
   "id": "9c3b4b15-4ac0-4bc4-8c09-64617d89157f",
   "metadata": {},
   "outputs": [
    {
     "name": "stdout",
     "output_type": "stream",
     "text": [
      "{'a': 'value1', 'b': 'value2'}\n",
      "{'a': 'value1', 'b': 'value2'}\n"
     ]
    }
   ],
   "source": [
    "# Delete values from dict\n",
    "\n",
    "# Using del\n",
    "d1[\"dummy1\"] = \"Dummy\"\n",
    "del d1[\"dummy1\"]\n",
    "print(d1)\n",
    "\n",
    "# Using .pop(key) which returns the value\n",
    "d1[\"dummy2\"] = \"Dummy\"\n",
    "popped = d1.pop(\"dummy2\")\n",
    "print(d1)"
   ]
  },
  {
   "cell_type": "code",
   "execution_count": 99,
   "id": "040d26f2-e370-4ca9-9e90-673e329817d6",
   "metadata": {},
   "outputs": [
    {
     "name": "stdout",
     "output_type": "stream",
     "text": [
      "dict_keys(['a', 'b'])\n",
      "dict_values(['value1', 'value2'])\n"
     ]
    }
   ],
   "source": [
    "print(d1.keys())\n",
    "print(d1.values())"
   ]
  },
  {
   "cell_type": "code",
   "execution_count": 100,
   "id": "09d340c3-deeb-4a2a-9875-a4aa936deab3",
   "metadata": {},
   "outputs": [
    {
     "name": "stdout",
     "output_type": "stream",
     "text": [
      "a value1\n",
      "b value2\n"
     ]
    }
   ],
   "source": [
    "# Iterate over key => value pair as tuples\n",
    "for key, val in d1.items():\n",
    "    print(key, val)"
   ]
  },
  {
   "cell_type": "code",
   "execution_count": 102,
   "id": "08c8eb51-ecbf-49d2-aa2e-b49a921f07c0",
   "metadata": {},
   "outputs": [
    {
     "data": {
      "text/plain": [
       "{'20241201': 'storm', '20241202': 'cloudy', '20241203': 'sunny'}"
      ]
     },
     "execution_count": 102,
     "metadata": {},
     "output_type": "execute_result"
    }
   ],
   "source": [
    "# We can make a dict from two sequences\n",
    "keys = ('20241201', '20241202', '20241203')\n",
    "values = ['storm', 'cloudy', 'sunny']\n",
    "\n",
    "tuples = zip(keys, values)\n",
    "d2 = dict(tuples)\n",
    "d2"
   ]
  },
  {
   "cell_type": "code",
   "execution_count": 106,
   "id": "b7b8cc7a-3242-434e-b653-b2e95d61fbf1",
   "metadata": {},
   "outputs": [
    {
     "name": "stdout",
     "output_type": "stream",
     "text": [
      "None\n",
      "default\n"
     ]
    }
   ],
   "source": [
    "# Why check if key in dict when you can do as such:\n",
    "print(d1.get(\"c\"))\n",
    "print(d1.get(\"c\", \"default\"))"
   ]
  },
  {
   "cell_type": "markdown",
   "id": "1b329983-e8c3-49c4-8f96-6cf8afd22127",
   "metadata": {},
   "source": [
    "### Sets\n",
    "\n",
    "Sorted and unique sequences"
   ]
  },
  {
   "cell_type": "code",
   "execution_count": 107,
   "id": "39f28ca7-d12a-4106-b2c7-c5d37b8c3329",
   "metadata": {},
   "outputs": [
    {
     "data": {
      "text/plain": [
       "{1, 2, 3}"
      ]
     },
     "execution_count": 107,
     "metadata": {},
     "output_type": "execute_result"
    }
   ],
   "source": [
    "s1 = set([2, 2, 1, 3])\n",
    "s1"
   ]
  },
  {
   "cell_type": "code",
   "execution_count": 108,
   "id": "2afaef38-2fac-4971-b52c-cf62ba4c835a",
   "metadata": {},
   "outputs": [
    {
     "data": {
      "text/plain": [
       "{0, 1, 2, 5, 6}"
      ]
     },
     "execution_count": 108,
     "metadata": {},
     "output_type": "execute_result"
    }
   ],
   "source": [
    "s2 = {5, 6, 2, 1, 0}\n",
    "s2"
   ]
  },
  {
   "cell_type": "markdown",
   "id": "35e65970-daba-4c4d-b22e-db252a7d0af6",
   "metadata": {},
   "source": [
    "#### Set operations"
   ]
  },
  {
   "cell_type": "code",
   "execution_count": 111,
   "id": "83ad89ef-27ad-4588-9990-29b34807b0f8",
   "metadata": {},
   "outputs": [
    {
     "data": {
      "text/plain": [
       "{0, 1, 2, 3, 5, 6}"
      ]
     },
     "execution_count": 111,
     "metadata": {},
     "output_type": "execute_result"
    }
   ],
   "source": [
    "# union\n",
    "s1.union(s2) # or\n",
    "s1 | s2"
   ]
  },
  {
   "cell_type": "code",
   "execution_count": 112,
   "id": "7b1c1b52-d014-4160-90a2-b10865ef0505",
   "metadata": {},
   "outputs": [
    {
     "data": {
      "text/plain": [
       "{1, 2}"
      ]
     },
     "execution_count": 112,
     "metadata": {},
     "output_type": "execute_result"
    }
   ],
   "source": [
    "# Intersection\n",
    "s1.intersection(s2) # Or\n",
    "s1 & s2"
   ]
  },
  {
   "cell_type": "markdown",
   "id": "ca08a2e8-8e69-47ab-9362-7c0a677408db",
   "metadata": {},
   "source": [
    "#### Other set operations\n",
    "- a.add(x)\n",
    "- a.clear()\n",
    "- a.remove(x)\n",
    "- a.pop()\n",
    "- a.union(b)\n",
    "- a.update(b) -> sets a to be union of a and b\n",
    "- a.intersection(b)\n",
    "- a.intersection_update(b) -> sets a to be intersection of a and b\n",
    "- a.difference(b)\n",
    "- a.difference_update(b)\n",
    "- a.symmetric_difference(b)\n",
    "- a.symmetric_difference_update(b)\n",
    "- a.issubset(b)\n",
    "- a.issuperset(b)\n",
    "- a.isdisjoint(b) -> True if a and b have no elements in common"
   ]
  },
  {
   "cell_type": "markdown",
   "id": "350c0b2c-be6f-4aaa-afa9-93537960b1b8",
   "metadata": {},
   "source": [
    "### Built-in sequence functions"
   ]
  },
  {
   "cell_type": "code",
   "execution_count": 113,
   "id": "ff0dcc7a-ce7d-460a-805f-2b0de36e0ad7",
   "metadata": {},
   "outputs": [
    {
     "name": "stdout",
     "output_type": "stream",
     "text": [
      "0 0\n",
      "1 1\n",
      "2 2\n",
      "3 5\n",
      "4 6\n"
     ]
    }
   ],
   "source": [
    "# enumerate()\n",
    "for ix, val in enumerate(s2):\n",
    "    print(ix, val)"
   ]
  },
  {
   "cell_type": "code",
   "execution_count": 114,
   "id": "a6daa348-991a-4961-a48c-8594ad7d9678",
   "metadata": {},
   "outputs": [
    {
     "data": {
      "text/plain": [
       "[0, 0, 0, 0, 1, 2, 2, 3, 8, 9, 9, 9]"
      ]
     },
     "execution_count": 114,
     "metadata": {},
     "output_type": "execute_result"
    }
   ],
   "source": [
    "# sorted()\n",
    "some_list = [9, 8, 2, 3, 2, 1, 9, 0, 0, 0, 0, 9]\n",
    "sorted(some_list)"
   ]
  },
  {
   "cell_type": "code",
   "execution_count": 115,
   "id": "c0dce23d-35ba-434e-9ccf-ef1fb95c4e1a",
   "metadata": {},
   "outputs": [
    {
     "data": {
      "text/plain": [
       "{0, 1, 2, 3, 8, 9}"
      ]
     },
     "execution_count": 115,
     "metadata": {},
     "output_type": "execute_result"
    }
   ],
   "source": [
    "# Now, if we also want to have only unique values:\n",
    "set(some_list)"
   ]
  },
  {
   "cell_type": "code",
   "execution_count": 118,
   "id": "30e3a624-9de4-49ab-b03a-656ba6c4d88c",
   "metadata": {},
   "outputs": [
    {
     "data": {
      "text/plain": [
       "[('20241201', 'storm'), ('20241202', 'cloudy'), ('20241203', 'sunny')]"
      ]
     },
     "execution_count": 118,
     "metadata": {},
     "output_type": "execute_result"
    }
   ],
   "source": [
    "# zip() - pairs elements up to create a list of tuples\n",
    "list(zip(keys, values))"
   ]
  },
  {
   "cell_type": "markdown",
   "id": "e238b22b-7b01-4f25-8b19-e221cd9d75e1",
   "metadata": {},
   "source": [
    "## COMPREHENSIONS"
   ]
  },
  {
   "cell_type": "markdown",
   "id": "615bcb7f-999e-4794-b0a4-e4a2be172775",
   "metadata": {},
   "source": [
    "### List comprehensions"
   ]
  },
  {
   "cell_type": "code",
   "execution_count": 122,
   "id": "a6cee517-c4d3-4d16-9221-50bebb01d75f",
   "metadata": {},
   "outputs": [
    {
     "data": {
      "text/plain": [
       "[9, 3, 1, 9, 9]"
      ]
     },
     "execution_count": 122,
     "metadata": {},
     "output_type": "execute_result"
    }
   ],
   "source": [
    "[i for i in some_list if i%2!=0]"
   ]
  },
  {
   "cell_type": "markdown",
   "id": "35776ec4-ff18-4076-a008-437019d0afce",
   "metadata": {},
   "source": [
    "### Dict compregensions"
   ]
  },
  {
   "cell_type": "code",
   "execution_count": 123,
   "id": "fa1bef9f-bf57-44b1-b346-0b3b7681dc16",
   "metadata": {},
   "outputs": [
    {
     "data": {
      "text/plain": [
       "{'20241201': 'storm', '20241202': 'cloudy', '20241203': 'sunny'}"
      ]
     },
     "execution_count": 123,
     "metadata": {},
     "output_type": "execute_result"
    }
   ],
   "source": [
    "{key: val for key, val in zip(keys, values)}"
   ]
  },
  {
   "cell_type": "markdown",
   "id": "42f26d16-bbb2-4ed8-9981-b44d10768cfd",
   "metadata": {},
   "source": [
    "\n",
    "# FUNCTIONS"
   ]
  },
  {
   "cell_type": "markdown",
   "id": "4bcc0bba-a561-4eab-9002-ab7315b08baf",
   "metadata": {},
   "source": [
    "### Arguments\n",
    "\n",
    "There's:\n",
    "- positional arguments\n",
    "- keyword arguments"
   ]
  },
  {
   "cell_type": "code",
   "execution_count": 124,
   "id": "6c884ce3-aaf5-4024-993c-d5404480635a",
   "metadata": {},
   "outputs": [
    {
     "data": {
      "text/plain": [
       "9"
      ]
     },
     "execution_count": 124,
     "metadata": {},
     "output_type": "execute_result"
    },
    {
     "name": "stdout",
     "output_type": "stream",
     "text": [
      "The history saving thread hit an unexpected error (OperationalError('attempt to write a readonly database')).History will not be written to the database.\n"
     ]
    }
   ],
   "source": [
    "def my_func(x, y, z=0): # x, y positional args, z is keyword arg\n",
    "    if z > 0:\n",
    "        return z * (x+y)\n",
    "    else:\n",
    "        return x + y\n",
    "\n",
    "my_func(1,2,z=3) # positional args must always be specified, keyword args should be specified with the keyword"
   ]
  },
  {
   "cell_type": "markdown",
   "id": "f3e0244a-198a-4da6-b58a-fb2a313071f5",
   "metadata": {},
   "source": [
    "### Namespace"
   ]
  },
  {
   "cell_type": "code",
   "execution_count": 130,
   "id": "39f0b9e1-4521-4121-966f-61be92123bfe",
   "metadata": {},
   "outputs": [
    {
     "name": "stdout",
     "output_type": "stream",
     "text": [
      "[0, 1, 2, 3, 4]\n",
      "[0, 1, 2, 3, 4]\n"
     ]
    }
   ],
   "source": [
    "a = []\n",
    "b = None\n",
    "\n",
    "def func1():\n",
    "    for i in range(5):\n",
    "        a.append(i) # This only works when a is a list\n",
    "func1()\n",
    "print(a)\n",
    "\n",
    "def func2():\n",
    "    global b # in the case of b, which is declared None, we have to declare it as global?\n",
    "    b = []\n",
    "    for i in range(5):\n",
    "        b.append(i)\n",
    "\n",
    "func2()\n",
    "print(b)"
   ]
  },
  {
   "cell_type": "markdown",
   "id": "4ddb908f-ce78-4eed-9aaa-31b680d27823",
   "metadata": {},
   "source": [
    "### Returning multiple values"
   ]
  },
  {
   "cell_type": "code",
   "execution_count": 131,
   "id": "2aa6ba1d-f8a1-4b86-983b-9dc3bb221756",
   "metadata": {},
   "outputs": [
    {
     "name": "stdout",
     "output_type": "stream",
     "text": [
      "1 2 3\n"
     ]
    }
   ],
   "source": [
    "def func3():\n",
    "    a = 1; b = 2; c = 3\n",
    "    return a, b, c\n",
    "\n",
    "a, b, c = func3()\n",
    "print(a,b,c)"
   ]
  },
  {
   "cell_type": "code",
   "execution_count": 132,
   "id": "96fad6da-6c24-4bed-9257-96afa9034f98",
   "metadata": {},
   "outputs": [
    {
     "data": {
      "text/plain": [
       "['Lisbon', 'Barcelona', 'Bucharest', 'Rome', 'Palermo']"
      ]
     },
     "execution_count": 132,
     "metadata": {},
     "output_type": "execute_result"
    }
   ],
   "source": [
    "cities = ['  lisbon', 'barcelona', 'bUcharest  ', ' rome', 'Palermo']\n",
    "\n",
    "clean_ops = [str.strip, str.title]\n",
    "\n",
    "def clean_strings(strings, ops):\n",
    "    result = []\n",
    "    for value in strings:\n",
    "        for func in ops:\n",
    "            value = func(value)\n",
    "        result.append(value)\n",
    "\n",
    "    return result\n",
    "\n",
    "clean_strings(cities, clean_ops)"
   ]
  },
  {
   "cell_type": "markdown",
   "id": "89978a35-f178-46a4-ba11-902e1ea6af96",
   "metadata": {},
   "source": [
    "### Lambda functions"
   ]
  },
  {
   "cell_type": "code",
   "execution_count": 138,
   "id": "838e62a5-adc8-439e-8d23-389a8be3212f",
   "metadata": {},
   "outputs": [
    {
     "name": "stdout",
     "output_type": "stream",
     "text": [
      "[0, 1, 4, 9, 16, 25, 36, 49, 64, 81, 100]\n",
      "['c', 'y', 'dd', 'aaa', 'xxx', 'bbbbb']\n"
     ]
    }
   ],
   "source": [
    "powers = map(lambda x: x**2, range(0, 11))\n",
    "print(list(powers))\n",
    "\n",
    "strings = ['aaa', 'bbbbb', 'c', 'dd', 'xxx', 'y']\n",
    "strings.sort(key=lambda x: len(x))\n",
    "print(strings)"
   ]
  },
  {
   "cell_type": "markdown",
   "id": "a04c4aba-19a4-4b9f-a5bd-da447dc03bde",
   "metadata": {},
   "source": [
    "### Generators"
   ]
  },
  {
   "cell_type": "code",
   "execution_count": 139,
   "id": "a32c0f1a-9555-4755-be04-bd0aaa629196",
   "metadata": {},
   "outputs": [
    {
     "data": {
      "text/plain": [
       "<generator object squares at 0x70b65eb40ac0>"
      ]
     },
     "execution_count": 139,
     "metadata": {},
     "output_type": "execute_result"
    }
   ],
   "source": [
    "def squares(n=10):\n",
    "    for i in range(1, n+1):\n",
    "        yield i**2\n",
    "\n",
    "gen = squares()\n",
    "gen"
   ]
  },
  {
   "cell_type": "code",
   "execution_count": 140,
   "id": "8af07af8-0f8d-46b3-b713-81282d54c0a4",
   "metadata": {},
   "outputs": [
    {
     "name": "stdout",
     "output_type": "stream",
     "text": [
      "1\n",
      "4\n",
      "9\n",
      "16\n",
      "25\n",
      "36\n",
      "49\n",
      "64\n",
      "81\n",
      "100\n"
     ]
    }
   ],
   "source": [
    "for x in gen:\n",
    "    print(x)"
   ]
  },
  {
   "cell_type": "code",
   "execution_count": 141,
   "id": "80adbc51-bfc1-462c-a522-f7552804824d",
   "metadata": {},
   "outputs": [
    {
     "data": {
      "text/plain": [
       "<generator object <genexpr> at 0x70b65eb40dd0>"
      ]
     },
     "execution_count": 141,
     "metadata": {},
     "output_type": "execute_result"
    }
   ],
   "source": [
    "# OR like this\n",
    "gen = (x**2 for x in range(11))\n",
    "gen"
   ]
  },
  {
   "cell_type": "markdown",
   "id": "cf5b216a-1887-4022-a745-992f340deb1e",
   "metadata": {},
   "source": [
    "## ERRORS AND EXCEPTIONS"
   ]
  },
  {
   "cell_type": "markdown",
   "id": "d6452fd0-28f1-4f45-ad63-384a20fd9b28",
   "metadata": {},
   "source": [
    "### Exceptions"
   ]
  },
  {
   "cell_type": "code",
   "execution_count": 143,
   "id": "2e005a2a-9d45-40da-adba-e9edddc0893e",
   "metadata": {},
   "outputs": [
    {
     "name": "stdout",
     "output_type": "stream",
     "text": [
      "failed\n",
      "always\n"
     ]
    },
    {
     "data": {
      "text/plain": [
       "'sss'"
      ]
     },
     "execution_count": 143,
     "metadata": {},
     "output_type": "execute_result"
    }
   ],
   "source": [
    "def attempt_float(x):\n",
    "    try:\n",
    "        return float(x)\n",
    "    except:\n",
    "        print('failed')\n",
    "        return x\n",
    "    else:\n",
    "        print('succeeded')\n",
    "    finally:\n",
    "        print('always')\n",
    "\n",
    "attempt_float('sss')"
   ]
  },
  {
   "cell_type": "markdown",
   "id": "8ac0dc19-6fb7-4dce-84eb-111712f10476",
   "metadata": {},
   "source": [
    "## FILES"
   ]
  },
  {
   "cell_type": "code",
   "execution_count": 145,
   "id": "42bb014a-38b7-4986-a997-42b7f41eca19",
   "metadata": {},
   "outputs": [
    {
     "name": "stdout",
     "output_type": "stream",
     "text": [
      "id,value\n",
      "\n"
     ]
    }
   ],
   "source": [
    "f = open('./countries.csv', encoding='utf-8')\n",
    "for line in f:\n",
    "    print(line)\n",
    "    break\n",
    "f.close()"
   ]
  },
  {
   "cell_type": "markdown",
   "id": "e9b185e6-2b81-40ef-be8f-93112f5c0d3b",
   "metadata": {},
   "source": [
    "### Reading / writing CSV"
   ]
  },
  {
   "cell_type": "code",
   "execution_count": 4,
   "id": "a4dc1baa-0243-4d41-a432-26b723ecc2ee",
   "metadata": {},
   "outputs": [
    {
     "data": {
      "text/plain": [
       "[{'id': 'AF', 'value': 'Afghanistan'},\n",
       " {'id': 'AX', 'value': 'Åland Islands'},\n",
       " {'id': 'AL', 'value': 'Albania'}]"
      ]
     },
     "execution_count": 4,
     "metadata": {},
     "output_type": "execute_result"
    }
   ],
   "source": [
    "import csv\n",
    "\n",
    "%precision 2\n",
    "\n",
    "with open('./countries.csv', 'r+') as csvfile:\n",
    "    countries = list(csv.DictReader(csvfile))\n",
    "\n",
    "countries[:3]"
   ]
  },
  {
   "cell_type": "code",
   "execution_count": 5,
   "id": "da7d3dc7-bafc-47f3-b01d-6c7adbcfbbb6",
   "metadata": {},
   "outputs": [
    {
     "data": {
      "text/plain": [
       "dict_keys(['id', 'value'])"
      ]
     },
     "execution_count": 5,
     "metadata": {},
     "output_type": "execute_result"
    }
   ],
   "source": [
    "countries[0].keys()"
   ]
  },
  {
   "cell_type": "code",
   "execution_count": 7,
   "id": "08db6ed0-f54e-4650-8dbe-6348b5dc3def",
   "metadata": {},
   "outputs": [
    {
     "data": {
      "text/plain": [
       "dict_keys(['mpg', 'cylinders', 'displacement', 'horsepower', 'weight', 'acceleration', 'model_year', 'origin', 'name'])"
      ]
     },
     "execution_count": 7,
     "metadata": {},
     "output_type": "execute_result"
    }
   ],
   "source": [
    "with open('mpg.csv') as csvfile:\n",
    "    mpg = list(csv.DictReader(csvfile))\n",
    "\n",
    "mpg[0].keys()"
   ]
  },
  {
   "cell_type": "code",
   "execution_count": 8,
   "id": "84e89d16-a7b6-4a85-8d6c-2a7063854ebf",
   "metadata": {},
   "outputs": [
    {
     "data": {
      "text/plain": [
       "398"
      ]
     },
     "execution_count": 8,
     "metadata": {},
     "output_type": "execute_result"
    }
   ],
   "source": [
    "len(mpg)"
   ]
  },
  {
   "cell_type": "code",
   "execution_count": 9,
   "id": "5bbd52cf-572b-449a-8cc7-ac4bddce99d3",
   "metadata": {},
   "outputs": [
    {
     "data": {
      "text/plain": [
       "23.51"
      ]
     },
     "execution_count": 9,
     "metadata": {},
     "output_type": "execute_result"
    }
   ],
   "source": [
    "sum(float(d['mpg']) for d in mpg) / len(mpg)"
   ]
  },
  {
   "cell_type": "code",
   "execution_count": 11,
   "id": "317b0ae1-f576-4b9e-98da-6d5134b0aa53",
   "metadata": {},
   "outputs": [
    {
     "data": {
      "text/plain": [
       "{'3', '4', '5', '6', '8'}"
      ]
     },
     "execution_count": 11,
     "metadata": {},
     "output_type": "execute_result"
    }
   ],
   "source": [
    "cylinders = set(d['cylinders'] for d in mpg)\n",
    "cylinders"
   ]
  },
  {
   "cell_type": "code",
   "execution_count": 18,
   "id": "5e7549ba-7734-4f3c-9fa3-15e115a77b97",
   "metadata": {},
   "outputs": [
    {
     "data": {
      "text/plain": [
       "[('3', 20.55), ('4', 29.29), ('5', 27.37), ('6', 19.99), ('8', 14.96)]"
      ]
     },
     "execution_count": 18,
     "metadata": {},
     "output_type": "execute_result"
    }
   ],
   "source": [
    "mpgByCyl = []\n",
    "\n",
    "for c in cylinders:\n",
    "    count = 0\n",
    "    summpg = 0\n",
    "    for m in mpg:\n",
    "        if m['cylinders'] == c:\n",
    "            summpg += float(m['mpg'])\n",
    "            count+=1\n",
    "    mpgByCyl.append((c, summpg / count))\n",
    "\n",
    "mpgByCyl.sort(key=lambda x: x[0])\n",
    "mpgByCyl"
   ]
  },
  {
   "cell_type": "markdown",
   "id": "0c0b95d9-dcc0-49af-9bb8-49300878add2",
   "metadata": {},
   "source": [
    "## Dates and times"
   ]
  },
  {
   "cell_type": "code",
   "execution_count": 19,
   "id": "79064683-5be0-4a35-8b00-113eec4f40ad",
   "metadata": {},
   "outputs": [],
   "source": [
    "import datetime\n",
    "import time"
   ]
  },
  {
   "cell_type": "code",
   "execution_count": 20,
   "id": "e774eba1-210a-4712-b173-bbc2f6765781",
   "metadata": {},
   "outputs": [
    {
     "data": {
      "text/plain": [
       "1738007227.66"
      ]
     },
     "execution_count": 20,
     "metadata": {},
     "output_type": "execute_result"
    }
   ],
   "source": [
    "time.time()"
   ]
  },
  {
   "cell_type": "code",
   "execution_count": 21,
   "id": "bfc11821-fa8d-45b3-be25-2a771d82f5fa",
   "metadata": {},
   "outputs": [
    {
     "data": {
      "text/plain": [
       "datetime.datetime(2025, 1, 27, 20, 47, 20, 476858)"
      ]
     },
     "execution_count": 21,
     "metadata": {},
     "output_type": "execute_result"
    }
   ],
   "source": [
    "datetime.datetime.fromtimestamp(time.time())"
   ]
  },
  {
   "cell_type": "code",
   "execution_count": 22,
   "id": "9264628d-f70a-4112-8f7c-b62bb4cbcbc5",
   "metadata": {},
   "outputs": [
    {
     "data": {
      "text/plain": [
       "datetime.timedelta(days=100)"
      ]
     },
     "execution_count": 22,
     "metadata": {},
     "output_type": "execute_result"
    }
   ],
   "source": [
    "delta = datetime.timedelta(days=100)\n",
    "delta"
   ]
  },
  {
   "cell_type": "code",
   "execution_count": 23,
   "id": "264bf7ed-4d45-40b9-abca-800bcf1eb38d",
   "metadata": {},
   "outputs": [
    {
     "data": {
      "text/plain": [
       "datetime.date(2025, 5, 7)"
      ]
     },
     "execution_count": 23,
     "metadata": {},
     "output_type": "execute_result"
    }
   ],
   "source": [
    "today = datetime.date.today()\n",
    "today + delta"
   ]
  },
  {
   "cell_type": "markdown",
   "id": "01346734-2620-451d-8345-f3d466733183",
   "metadata": {},
   "source": [
    "## Classes, objects and map()"
   ]
  },
  {
   "cell_type": "code",
   "execution_count": 2,
   "id": "24e2e326-c14b-4432-97f3-c33f012eb28d",
   "metadata": {},
   "outputs": [],
   "source": [
    "class Person:\n",
    "    department = 'School of Information'\n",
    "\n",
    "    # Constructor\n",
    "    def __init__(self):\n",
    "        pass\n",
    "\n",
    "    def set_name(self, new_name):\n",
    "        self.name = new_name\n",
    "\n",
    "    def set_location(self, location):\n",
    "        self.location = location"
   ]
  },
  {
   "cell_type": "code",
   "execution_count": 3,
   "id": "1c62dcad-ee60-4118-a7cf-ce31d1f1da0f",
   "metadata": {},
   "outputs": [
    {
     "data": {
      "text/plain": [
       "<map at 0x78910c67df30>"
      ]
     },
     "execution_count": 3,
     "metadata": {},
     "output_type": "execute_result"
    }
   ],
   "source": [
    "store1 = [10, 12, 9.5]\n",
    "store2 = [8.99, 10, 11]\n",
    "cheapest = map(min, store1, store2)\n",
    "cheapest # Output is lazy evaluation"
   ]
  },
  {
   "cell_type": "code",
   "execution_count": 10,
   "id": "b6a4d95b-272f-49ad-af65-de69d8c3fb72",
   "metadata": {},
   "outputs": [
    {
     "data": {
      "text/plain": [
       "[8.99, 10, 9.5]"
      ]
     },
     "execution_count": 10,
     "metadata": {},
     "output_type": "execute_result"
    }
   ],
   "source": [
    "list(cheapest)"
   ]
  },
  {
   "cell_type": "code",
   "execution_count": 11,
   "id": "00ee7a6f-c40b-4f79-b22f-7f1a9279d44d",
   "metadata": {},
   "outputs": [
    {
     "data": {
      "text/plain": [
       "['Dr. Brooks', 'Dr. Collins-Thompson', 'Dr. Vydiswaran', 'Dr. Romero']"
      ]
     },
     "execution_count": 11,
     "metadata": {},
     "output_type": "execute_result"
    }
   ],
   "source": [
    "people = ['Dr. Christopher Brooks', 'Dr. Kevyn Collins-Thompson', 'Dr. VG Vinod Vydiswaran', 'Dr. Daniel Romero']\n",
    "\n",
    "def split_title_and_name(person):\n",
    "    splitted = person.split(' ')\n",
    "    return f\"{splitted[0]} {splitted[-1]}\"\n",
    "\n",
    "list(map(split_title_and_name, people))\n"
   ]
  },
  {
   "cell_type": "code",
   "execution_count": 15,
   "id": "18f7f52a-df0b-45b0-9ad1-6e49f1c67119",
   "metadata": {},
   "outputs": [
    {
     "data": {
      "text/plain": [
       "['00aa',\n",
       " '00ab',\n",
       " '00ac',\n",
       " '00ad',\n",
       " '00ae',\n",
       " '00af',\n",
       " '00ag',\n",
       " '00ah',\n",
       " '00ai',\n",
       " '00aj',\n",
       " '00ak',\n",
       " '00al',\n",
       " '00am',\n",
       " '00an',\n",
       " '00ao',\n",
       " '00ap',\n",
       " '00aq',\n",
       " '00ar',\n",
       " '00as',\n",
       " '00at',\n",
       " '00au',\n",
       " '00av',\n",
       " '00aw',\n",
       " '00ax',\n",
       " '00ay',\n",
       " '00az',\n",
       " '00ba',\n",
       " '00bb',\n",
       " '00bc',\n",
       " '00bd',\n",
       " '00be',\n",
       " '00bf',\n",
       " '00bg',\n",
       " '00bh',\n",
       " '00bi',\n",
       " '00bj',\n",
       " '00bk',\n",
       " '00bl',\n",
       " '00bm',\n",
       " '00bn',\n",
       " '00bo',\n",
       " '00bp',\n",
       " '00bq',\n",
       " '00br',\n",
       " '00bs',\n",
       " '00bt',\n",
       " '00bu',\n",
       " '00bv',\n",
       " '00bw',\n",
       " '00bx',\n",
       " '00by',\n",
       " '00bz',\n",
       " '00ca',\n",
       " '00cb',\n",
       " '00cc',\n",
       " '00cd',\n",
       " '00ce',\n",
       " '00cf',\n",
       " '00cg',\n",
       " '00ch',\n",
       " '00ci',\n",
       " '00cj',\n",
       " '00ck',\n",
       " '00cl',\n",
       " '00cm',\n",
       " '00cn',\n",
       " '00co',\n",
       " '00cp',\n",
       " '00cq',\n",
       " '00cr',\n",
       " '00cs',\n",
       " '00ct',\n",
       " '00cu',\n",
       " '00cv',\n",
       " '00cw',\n",
       " '00cx',\n",
       " '00cy',\n",
       " '00cz',\n",
       " '00da',\n",
       " '00db',\n",
       " '00dc',\n",
       " '00dd',\n",
       " '00de',\n",
       " '00df',\n",
       " '00dg',\n",
       " '00dh',\n",
       " '00di',\n",
       " '00dj',\n",
       " '00dk',\n",
       " '00dl',\n",
       " '00dm',\n",
       " '00dn',\n",
       " '00do',\n",
       " '00dp',\n",
       " '00dq',\n",
       " '00dr',\n",
       " '00ds',\n",
       " '00dt',\n",
       " '00du',\n",
       " '00dv',\n",
       " '00dw',\n",
       " '00dx',\n",
       " '00dy',\n",
       " '00dz',\n",
       " '00ea',\n",
       " '00eb',\n",
       " '00ec',\n",
       " '00ed',\n",
       " '00ee',\n",
       " '00ef',\n",
       " '00eg',\n",
       " '00eh',\n",
       " '00ei',\n",
       " '00ej',\n",
       " '00ek',\n",
       " '00el',\n",
       " '00em',\n",
       " '00en',\n",
       " '00eo',\n",
       " '00ep',\n",
       " '00eq',\n",
       " '00er',\n",
       " '00es',\n",
       " '00et',\n",
       " '00eu',\n",
       " '00ev',\n",
       " '00ew',\n",
       " '00ex',\n",
       " '00ey',\n",
       " '00ez',\n",
       " '00fa',\n",
       " '00fb',\n",
       " '00fc',\n",
       " '00fd',\n",
       " '00fe',\n",
       " '00ff',\n",
       " '00fg',\n",
       " '00fh',\n",
       " '00fi',\n",
       " '00fj',\n",
       " '00fk',\n",
       " '00fl',\n",
       " '00fm',\n",
       " '00fn',\n",
       " '00fo',\n",
       " '00fp',\n",
       " '00fq',\n",
       " '00fr',\n",
       " '00fs',\n",
       " '00ft',\n",
       " '00fu',\n",
       " '00fv',\n",
       " '00fw',\n",
       " '00fx',\n",
       " '00fy',\n",
       " '00fz',\n",
       " '00ga',\n",
       " '00gb',\n",
       " '00gc',\n",
       " '00gd',\n",
       " '00ge',\n",
       " '00gf',\n",
       " '00gg',\n",
       " '00gh',\n",
       " '00gi',\n",
       " '00gj',\n",
       " '00gk',\n",
       " '00gl',\n",
       " '00gm',\n",
       " '00gn',\n",
       " '00go',\n",
       " '00gp',\n",
       " '00gq',\n",
       " '00gr',\n",
       " '00gs',\n",
       " '00gt',\n",
       " '00gu',\n",
       " '00gv',\n",
       " '00gw',\n",
       " '00gx',\n",
       " '00gy',\n",
       " '00gz',\n",
       " '00ha',\n",
       " '00hb',\n",
       " '00hc',\n",
       " '00hd',\n",
       " '00he',\n",
       " '00hf',\n",
       " '00hg',\n",
       " '00hh',\n",
       " '00hi',\n",
       " '00hj',\n",
       " '00hk',\n",
       " '00hl',\n",
       " '00hm',\n",
       " '00hn',\n",
       " '00ho',\n",
       " '00hp',\n",
       " '00hq',\n",
       " '00hr',\n",
       " '00hs',\n",
       " '00ht',\n",
       " '00hu',\n",
       " '00hv',\n",
       " '00hw',\n",
       " '00hx',\n",
       " '00hy',\n",
       " '00hz',\n",
       " '00ia',\n",
       " '00ib',\n",
       " '00ic',\n",
       " '00id',\n",
       " '00ie',\n",
       " '00if',\n",
       " '00ig',\n",
       " '00ih',\n",
       " '00ii',\n",
       " '00ij',\n",
       " '00ik',\n",
       " '00il',\n",
       " '00im',\n",
       " '00in',\n",
       " '00io',\n",
       " '00ip',\n",
       " '00iq',\n",
       " '00ir',\n",
       " '00is',\n",
       " '00it',\n",
       " '00iu',\n",
       " '00iv',\n",
       " '00iw',\n",
       " '00ix',\n",
       " '00iy',\n",
       " '00iz',\n",
       " '00ja',\n",
       " '00jb',\n",
       " '00jc',\n",
       " '00jd',\n",
       " '00je',\n",
       " '00jf',\n",
       " '00jg',\n",
       " '00jh',\n",
       " '00ji',\n",
       " '00jj',\n",
       " '00jk',\n",
       " '00jl',\n",
       " '00jm',\n",
       " '00jn',\n",
       " '00jo',\n",
       " '00jp',\n",
       " '00jq',\n",
       " '00jr',\n",
       " '00js',\n",
       " '00jt',\n",
       " '00ju',\n",
       " '00jv',\n",
       " '00jw',\n",
       " '00jx',\n",
       " '00jy',\n",
       " '00jz',\n",
       " '00ka',\n",
       " '00kb',\n",
       " '00kc',\n",
       " '00kd',\n",
       " '00ke',\n",
       " '00kf',\n",
       " '00kg',\n",
       " '00kh',\n",
       " '00ki',\n",
       " '00kj',\n",
       " '00kk',\n",
       " '00kl',\n",
       " '00km',\n",
       " '00kn',\n",
       " '00ko',\n",
       " '00kp',\n",
       " '00kq',\n",
       " '00kr',\n",
       " '00ks',\n",
       " '00kt',\n",
       " '00ku',\n",
       " '00kv',\n",
       " '00kw',\n",
       " '00kx',\n",
       " '00ky',\n",
       " '00kz',\n",
       " '00la',\n",
       " '00lb',\n",
       " '00lc',\n",
       " '00ld',\n",
       " '00le',\n",
       " '00lf',\n",
       " '00lg',\n",
       " '00lh',\n",
       " '00li',\n",
       " '00lj',\n",
       " '00lk',\n",
       " '00ll',\n",
       " '00lm',\n",
       " '00ln',\n",
       " '00lo',\n",
       " '00lp',\n",
       " '00lq',\n",
       " '00lr',\n",
       " '00ls',\n",
       " '00lt',\n",
       " '00lu',\n",
       " '00lv',\n",
       " '00lw',\n",
       " '00lx',\n",
       " '00ly',\n",
       " '00lz',\n",
       " '00ma',\n",
       " '00mb',\n",
       " '00mc',\n",
       " '00md',\n",
       " '00me',\n",
       " '00mf',\n",
       " '00mg',\n",
       " '00mh',\n",
       " '00mi',\n",
       " '00mj',\n",
       " '00mk',\n",
       " '00ml',\n",
       " '00mm',\n",
       " '00mn',\n",
       " '00mo',\n",
       " '00mp',\n",
       " '00mq',\n",
       " '00mr',\n",
       " '00ms',\n",
       " '00mt',\n",
       " '00mu',\n",
       " '00mv',\n",
       " '00mw',\n",
       " '00mx',\n",
       " '00my',\n",
       " '00mz',\n",
       " '00na',\n",
       " '00nb',\n",
       " '00nc',\n",
       " '00nd',\n",
       " '00ne',\n",
       " '00nf',\n",
       " '00ng',\n",
       " '00nh',\n",
       " '00ni',\n",
       " '00nj',\n",
       " '00nk',\n",
       " '00nl',\n",
       " '00nm',\n",
       " '00nn',\n",
       " '00no',\n",
       " '00np',\n",
       " '00nq',\n",
       " '00nr',\n",
       " '00ns',\n",
       " '00nt',\n",
       " '00nu',\n",
       " '00nv',\n",
       " '00nw',\n",
       " '00nx',\n",
       " '00ny',\n",
       " '00nz',\n",
       " '00oa',\n",
       " '00ob',\n",
       " '00oc',\n",
       " '00od',\n",
       " '00oe',\n",
       " '00of',\n",
       " '00og',\n",
       " '00oh',\n",
       " '00oi',\n",
       " '00oj',\n",
       " '00ok',\n",
       " '00ol',\n",
       " '00om',\n",
       " '00on',\n",
       " '00oo',\n",
       " '00op',\n",
       " '00oq',\n",
       " '00or',\n",
       " '00os',\n",
       " '00ot',\n",
       " '00ou',\n",
       " '00ov',\n",
       " '00ow',\n",
       " '00ox',\n",
       " '00oy',\n",
       " '00oz',\n",
       " '00pa',\n",
       " '00pb',\n",
       " '00pc',\n",
       " '00pd',\n",
       " '00pe',\n",
       " '00pf',\n",
       " '00pg',\n",
       " '00ph',\n",
       " '00pi',\n",
       " '00pj',\n",
       " '00pk',\n",
       " '00pl',\n",
       " '00pm',\n",
       " '00pn',\n",
       " '00po',\n",
       " '00pp',\n",
       " '00pq',\n",
       " '00pr',\n",
       " '00ps',\n",
       " '00pt',\n",
       " '00pu',\n",
       " '00pv',\n",
       " '00pw',\n",
       " '00px',\n",
       " '00py',\n",
       " '00pz',\n",
       " '00qa',\n",
       " '00qb',\n",
       " '00qc',\n",
       " '00qd',\n",
       " '00qe',\n",
       " '00qf',\n",
       " '00qg',\n",
       " '00qh',\n",
       " '00qi',\n",
       " '00qj',\n",
       " '00qk',\n",
       " '00ql',\n",
       " '00qm',\n",
       " '00qn',\n",
       " '00qo',\n",
       " '00qp',\n",
       " '00qq',\n",
       " '00qr',\n",
       " '00qs',\n",
       " '00qt',\n",
       " '00qu',\n",
       " '00qv',\n",
       " '00qw',\n",
       " '00qx',\n",
       " '00qy',\n",
       " '00qz',\n",
       " '00ra',\n",
       " '00rb',\n",
       " '00rc',\n",
       " '00rd',\n",
       " '00re',\n",
       " '00rf',\n",
       " '00rg',\n",
       " '00rh',\n",
       " '00ri',\n",
       " '00rj',\n",
       " '00rk',\n",
       " '00rl',\n",
       " '00rm',\n",
       " '00rn',\n",
       " '00ro',\n",
       " '00rp',\n",
       " '00rq',\n",
       " '00rr',\n",
       " '00rs',\n",
       " '00rt',\n",
       " '00ru',\n",
       " '00rv',\n",
       " '00rw',\n",
       " '00rx',\n",
       " '00ry',\n",
       " '00rz',\n",
       " '00sa',\n",
       " '00sb',\n",
       " '00sc',\n",
       " '00sd',\n",
       " '00se',\n",
       " '00sf',\n",
       " '00sg',\n",
       " '00sh',\n",
       " '00si',\n",
       " '00sj',\n",
       " '00sk',\n",
       " '00sl',\n",
       " '00sm',\n",
       " '00sn',\n",
       " '00so',\n",
       " '00sp',\n",
       " '00sq',\n",
       " '00sr',\n",
       " '00ss',\n",
       " '00st',\n",
       " '00su',\n",
       " '00sv',\n",
       " '00sw',\n",
       " '00sx',\n",
       " '00sy',\n",
       " '00sz',\n",
       " '00ta',\n",
       " '00tb',\n",
       " '00tc',\n",
       " '00td',\n",
       " '00te',\n",
       " '00tf',\n",
       " '00tg',\n",
       " '00th',\n",
       " '00ti',\n",
       " '00tj',\n",
       " '00tk',\n",
       " '00tl',\n",
       " '00tm',\n",
       " '00tn',\n",
       " '00to',\n",
       " '00tp',\n",
       " '00tq',\n",
       " '00tr',\n",
       " '00ts',\n",
       " '00tt',\n",
       " '00tu',\n",
       " '00tv',\n",
       " '00tw',\n",
       " '00tx',\n",
       " '00ty',\n",
       " '00tz',\n",
       " '00ua',\n",
       " '00ub',\n",
       " '00uc',\n",
       " '00ud',\n",
       " '00ue',\n",
       " '00uf',\n",
       " '00ug',\n",
       " '00uh',\n",
       " '00ui',\n",
       " '00uj',\n",
       " '00uk',\n",
       " '00ul',\n",
       " '00um',\n",
       " '00un',\n",
       " '00uo',\n",
       " '00up',\n",
       " '00uq',\n",
       " '00ur',\n",
       " '00us',\n",
       " '00ut',\n",
       " '00uu',\n",
       " '00uv',\n",
       " '00uw',\n",
       " '00ux',\n",
       " '00uy',\n",
       " '00uz',\n",
       " '00va',\n",
       " '00vb',\n",
       " '00vc',\n",
       " '00vd',\n",
       " '00ve',\n",
       " '00vf',\n",
       " '00vg',\n",
       " '00vh',\n",
       " '00vi',\n",
       " '00vj',\n",
       " '00vk',\n",
       " '00vl',\n",
       " '00vm',\n",
       " '00vn',\n",
       " '00vo',\n",
       " '00vp',\n",
       " '00vq',\n",
       " '00vr',\n",
       " '00vs',\n",
       " '00vt',\n",
       " '00vu',\n",
       " '00vv',\n",
       " '00vw',\n",
       " '00vx',\n",
       " '00vy',\n",
       " '00vz',\n",
       " '00wa',\n",
       " '00wb',\n",
       " '00wc',\n",
       " '00wd',\n",
       " '00we',\n",
       " '00wf',\n",
       " '00wg',\n",
       " '00wh',\n",
       " '00wi',\n",
       " '00wj',\n",
       " '00wk',\n",
       " '00wl',\n",
       " '00wm',\n",
       " '00wn',\n",
       " '00wo',\n",
       " '00wp',\n",
       " '00wq',\n",
       " '00wr',\n",
       " '00ws',\n",
       " '00wt',\n",
       " '00wu',\n",
       " '00wv',\n",
       " '00ww',\n",
       " '00wx',\n",
       " '00wy',\n",
       " '00wz',\n",
       " '00xa',\n",
       " '00xb',\n",
       " '00xc',\n",
       " '00xd',\n",
       " '00xe',\n",
       " '00xf',\n",
       " '00xg',\n",
       " '00xh',\n",
       " '00xi',\n",
       " '00xj',\n",
       " '00xk',\n",
       " '00xl',\n",
       " '00xm',\n",
       " '00xn',\n",
       " '00xo',\n",
       " '00xp',\n",
       " '00xq',\n",
       " '00xr',\n",
       " '00xs',\n",
       " '00xt',\n",
       " '00xu',\n",
       " '00xv',\n",
       " '00xw',\n",
       " '00xx',\n",
       " '00xy',\n",
       " '00xz',\n",
       " '00ya',\n",
       " '00yb',\n",
       " '00yc',\n",
       " '00yd',\n",
       " '00ye',\n",
       " '00yf',\n",
       " '00yg',\n",
       " '00yh',\n",
       " '00yi',\n",
       " '00yj',\n",
       " '00yk',\n",
       " '00yl',\n",
       " '00ym',\n",
       " '00yn',\n",
       " '00yo',\n",
       " '00yp',\n",
       " '00yq',\n",
       " '00yr',\n",
       " '00ys',\n",
       " '00yt',\n",
       " '00yu',\n",
       " '00yv',\n",
       " '00yw',\n",
       " '00yx',\n",
       " '00yy',\n",
       " '00yz',\n",
       " '00za',\n",
       " '00zb',\n",
       " '00zc',\n",
       " '00zd',\n",
       " '00ze',\n",
       " '00zf',\n",
       " '00zg',\n",
       " '00zh',\n",
       " '00zi',\n",
       " '00zj',\n",
       " '00zk',\n",
       " '00zl',\n",
       " '00zm',\n",
       " '00zn',\n",
       " '00zo',\n",
       " '00zp',\n",
       " '00zq',\n",
       " '00zr',\n",
       " '00zs',\n",
       " '00zt',\n",
       " '00zu',\n",
       " '00zv',\n",
       " '00zw',\n",
       " '00zx',\n",
       " '00zy',\n",
       " '00zz',\n",
       " '01aa',\n",
       " '01ab',\n",
       " '01ac',\n",
       " '01ad',\n",
       " '01ae',\n",
       " '01af',\n",
       " '01ag',\n",
       " '01ah',\n",
       " '01ai',\n",
       " '01aj',\n",
       " '01ak',\n",
       " '01al',\n",
       " '01am',\n",
       " '01an',\n",
       " '01ao',\n",
       " '01ap',\n",
       " '01aq',\n",
       " '01ar',\n",
       " '01as',\n",
       " '01at',\n",
       " '01au',\n",
       " '01av',\n",
       " '01aw',\n",
       " '01ax',\n",
       " '01ay',\n",
       " '01az',\n",
       " '01ba',\n",
       " '01bb',\n",
       " '01bc',\n",
       " '01bd',\n",
       " '01be',\n",
       " '01bf',\n",
       " '01bg',\n",
       " '01bh',\n",
       " '01bi',\n",
       " '01bj',\n",
       " '01bk',\n",
       " '01bl',\n",
       " '01bm',\n",
       " '01bn',\n",
       " '01bo',\n",
       " '01bp',\n",
       " '01bq',\n",
       " '01br',\n",
       " '01bs',\n",
       " '01bt',\n",
       " '01bu',\n",
       " '01bv',\n",
       " '01bw',\n",
       " '01bx',\n",
       " '01by',\n",
       " '01bz',\n",
       " '01ca',\n",
       " '01cb',\n",
       " '01cc',\n",
       " '01cd',\n",
       " '01ce',\n",
       " '01cf',\n",
       " '01cg',\n",
       " '01ch',\n",
       " '01ci',\n",
       " '01cj',\n",
       " '01ck',\n",
       " '01cl',\n",
       " '01cm',\n",
       " '01cn',\n",
       " '01co',\n",
       " '01cp',\n",
       " '01cq',\n",
       " '01cr',\n",
       " '01cs',\n",
       " '01ct',\n",
       " '01cu',\n",
       " '01cv',\n",
       " '01cw',\n",
       " '01cx',\n",
       " '01cy',\n",
       " '01cz',\n",
       " '01da',\n",
       " '01db',\n",
       " '01dc',\n",
       " '01dd',\n",
       " '01de',\n",
       " '01df',\n",
       " '01dg',\n",
       " '01dh',\n",
       " '01di',\n",
       " '01dj',\n",
       " '01dk',\n",
       " '01dl',\n",
       " '01dm',\n",
       " '01dn',\n",
       " '01do',\n",
       " '01dp',\n",
       " '01dq',\n",
       " '01dr',\n",
       " '01ds',\n",
       " '01dt',\n",
       " '01du',\n",
       " '01dv',\n",
       " '01dw',\n",
       " '01dx',\n",
       " '01dy',\n",
       " '01dz',\n",
       " '01ea',\n",
       " '01eb',\n",
       " '01ec',\n",
       " '01ed',\n",
       " '01ee',\n",
       " '01ef',\n",
       " '01eg',\n",
       " '01eh',\n",
       " '01ei',\n",
       " '01ej',\n",
       " '01ek',\n",
       " '01el',\n",
       " '01em',\n",
       " '01en',\n",
       " '01eo',\n",
       " '01ep',\n",
       " '01eq',\n",
       " '01er',\n",
       " '01es',\n",
       " '01et',\n",
       " '01eu',\n",
       " '01ev',\n",
       " '01ew',\n",
       " '01ex',\n",
       " '01ey',\n",
       " '01ez',\n",
       " '01fa',\n",
       " '01fb',\n",
       " '01fc',\n",
       " '01fd',\n",
       " '01fe',\n",
       " '01ff',\n",
       " '01fg',\n",
       " '01fh',\n",
       " '01fi',\n",
       " '01fj',\n",
       " '01fk',\n",
       " '01fl',\n",
       " '01fm',\n",
       " '01fn',\n",
       " '01fo',\n",
       " '01fp',\n",
       " '01fq',\n",
       " '01fr',\n",
       " '01fs',\n",
       " '01ft',\n",
       " '01fu',\n",
       " '01fv',\n",
       " '01fw',\n",
       " '01fx',\n",
       " '01fy',\n",
       " '01fz',\n",
       " '01ga',\n",
       " '01gb',\n",
       " '01gc',\n",
       " '01gd',\n",
       " '01ge',\n",
       " '01gf',\n",
       " '01gg',\n",
       " '01gh',\n",
       " '01gi',\n",
       " '01gj',\n",
       " '01gk',\n",
       " '01gl',\n",
       " '01gm',\n",
       " '01gn',\n",
       " '01go',\n",
       " '01gp',\n",
       " '01gq',\n",
       " '01gr',\n",
       " '01gs',\n",
       " '01gt',\n",
       " '01gu',\n",
       " '01gv',\n",
       " '01gw',\n",
       " '01gx',\n",
       " '01gy',\n",
       " '01gz',\n",
       " '01ha',\n",
       " '01hb',\n",
       " '01hc',\n",
       " '01hd',\n",
       " '01he',\n",
       " '01hf',\n",
       " '01hg',\n",
       " '01hh',\n",
       " '01hi',\n",
       " '01hj',\n",
       " '01hk',\n",
       " '01hl',\n",
       " '01hm',\n",
       " '01hn',\n",
       " '01ho',\n",
       " '01hp',\n",
       " '01hq',\n",
       " '01hr',\n",
       " '01hs',\n",
       " '01ht',\n",
       " '01hu',\n",
       " '01hv',\n",
       " '01hw',\n",
       " '01hx',\n",
       " '01hy',\n",
       " '01hz',\n",
       " '01ia',\n",
       " '01ib',\n",
       " '01ic',\n",
       " '01id',\n",
       " '01ie',\n",
       " '01if',\n",
       " '01ig',\n",
       " '01ih',\n",
       " '01ii',\n",
       " '01ij',\n",
       " '01ik',\n",
       " '01il',\n",
       " '01im',\n",
       " '01in',\n",
       " '01io',\n",
       " '01ip',\n",
       " '01iq',\n",
       " '01ir',\n",
       " '01is',\n",
       " '01it',\n",
       " '01iu',\n",
       " '01iv',\n",
       " '01iw',\n",
       " '01ix',\n",
       " '01iy',\n",
       " '01iz',\n",
       " '01ja',\n",
       " '01jb',\n",
       " '01jc',\n",
       " '01jd',\n",
       " '01je',\n",
       " '01jf',\n",
       " '01jg',\n",
       " '01jh',\n",
       " '01ji',\n",
       " '01jj',\n",
       " '01jk',\n",
       " '01jl',\n",
       " '01jm',\n",
       " '01jn',\n",
       " '01jo',\n",
       " '01jp',\n",
       " '01jq',\n",
       " '01jr',\n",
       " '01js',\n",
       " '01jt',\n",
       " '01ju',\n",
       " '01jv',\n",
       " '01jw',\n",
       " '01jx',\n",
       " '01jy',\n",
       " '01jz',\n",
       " '01ka',\n",
       " '01kb',\n",
       " '01kc',\n",
       " '01kd',\n",
       " '01ke',\n",
       " '01kf',\n",
       " '01kg',\n",
       " '01kh',\n",
       " '01ki',\n",
       " '01kj',\n",
       " '01kk',\n",
       " '01kl',\n",
       " '01km',\n",
       " '01kn',\n",
       " '01ko',\n",
       " '01kp',\n",
       " '01kq',\n",
       " '01kr',\n",
       " '01ks',\n",
       " '01kt',\n",
       " '01ku',\n",
       " '01kv',\n",
       " '01kw',\n",
       " '01kx',\n",
       " '01ky',\n",
       " '01kz',\n",
       " '01la',\n",
       " '01lb',\n",
       " '01lc',\n",
       " '01ld',\n",
       " '01le',\n",
       " '01lf',\n",
       " '01lg',\n",
       " '01lh',\n",
       " '01li',\n",
       " '01lj',\n",
       " '01lk',\n",
       " '01ll',\n",
       " '01lm',\n",
       " '01ln',\n",
       " '01lo',\n",
       " '01lp',\n",
       " '01lq',\n",
       " '01lr',\n",
       " '01ls',\n",
       " '01lt',\n",
       " '01lu',\n",
       " '01lv',\n",
       " '01lw',\n",
       " '01lx',\n",
       " '01ly',\n",
       " '01lz',\n",
       " '01ma',\n",
       " '01mb',\n",
       " '01mc',\n",
       " '01md',\n",
       " '01me',\n",
       " '01mf',\n",
       " '01mg',\n",
       " '01mh',\n",
       " '01mi',\n",
       " '01mj',\n",
       " '01mk',\n",
       " '01ml',\n",
       " ...]"
      ]
     },
     "execution_count": 15,
     "metadata": {},
     "output_type": "execute_result"
    }
   ],
   "source": [
    "lowercase = 'abcdefghijklmnopqrstuvwxyz'\n",
    "digits = '0123456789'\n",
    "\n",
    "[f'{a}{b}{x}{y}' for a in digits for b in digits for x in lowercase for y in lowercase]"
   ]
  },
  {
   "cell_type": "code",
   "execution_count": null,
   "id": "71aba9ba-5415-44b5-ae0b-5c403ed7595b",
   "metadata": {},
   "outputs": [],
   "source": []
  }
 ],
 "metadata": {
  "kernelspec": {
   "display_name": "Python 3 (ipykernel)",
   "language": "python",
   "name": "python3"
  },
  "language_info": {
   "codemirror_mode": {
    "name": "ipython",
    "version": 3
   },
   "file_extension": ".py",
   "mimetype": "text/x-python",
   "name": "python",
   "nbconvert_exporter": "python",
   "pygments_lexer": "ipython3",
   "version": "3.10.12"
  }
 },
 "nbformat": 4,
 "nbformat_minor": 5
}
